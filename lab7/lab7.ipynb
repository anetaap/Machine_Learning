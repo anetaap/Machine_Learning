{
 "cells": [
  {
   "cell_type": "markdown",
   "id": "a2ae5959-5a31-4ae4-acd3-e8d87eacafa9",
   "metadata": {},
   "source": [
    "# 1. Cel/ Zakres\n",
    "- Klasteryzacja\n",
    "- Znajdywanie parametrów dla algorytmów klasteryzacji."
   ]
  },
  {
   "cell_type": "code",
   "execution_count": 1,
   "id": "d719022c",
   "metadata": {},
   "outputs": [],
   "source": [
    "import pandas as pd\n",
    "from sklearn.datasets import fetch_openml\n",
    "import numpy as np\n",
    "import datetime\n",
    "from sklearn.cluster import KMeans\n",
    "from sklearn.metrics import silhouette_score\n",
    "from sklearn.metrics import confusion_matrix\n",
    "import matplotlib.pyplot as plt\n",
    "from sklearn.cluster import DBSCAN\n",
    "\n",
    "import pickle"
   ]
  },
  {
   "cell_type": "markdown",
   "id": "03ee5ecc-b181-4fe4-8037-a561e6e28d2c",
   "metadata": {
    "tags": []
   },
   "source": [
    "# 2. Przygotowanie Danych"
   ]
  },
  {
   "cell_type": "code",
   "execution_count": 2,
   "id": "6ca0b198-426e-4160-be42-8e531f4ed71c",
   "metadata": {},
   "outputs": [],
   "source": [
    "mnist = fetch_openml('mnist_784', version=1, as_frame=False)\n",
    "mnist.target = mnist.target.astype(np.uint8)\n",
    "X = mnist[\"data\"]\n",
    "y = mnist[\"target\"]"
   ]
  },
  {
   "cell_type": "markdown",
   "id": "c27f17e2-1880-435c-80fa-a08df773526b",
   "metadata": {},
   "source": [
    "# 3. Ćwiczenie"
   ]
  },
  {
   "cell_type": "markdown",
   "id": "3ec214aa-9173-4ff4-a49c-ecc76ebe8b82",
   "metadata": {},
   "source": [
    "Pozyskane dane (zmienna X) reprezentują zeskanowane znaki nieznanego alfabetu.\n",
    "\n",
    "Celem ćwiczenia jest identyfikacja ile tych znaków jest i jak mogą one wyglądać.\n",
    "\n",
    "Zakładając, że możemy mieć do czynienia z 8–12 różnymi znakami uzyj metody centroidów do ich\n",
    "klasteryzacji."
   ]
  },
  {
   "cell_type": "markdown",
   "id": "5114c895-d363-44aa-81c4-9380d97881ca",
   "metadata": {},
   "source": [
    "### 1. Przeprowadź klasteryzację dla 8, 9, 10, 11 i 12 skupisk."
   ]
  },
  {
   "cell_type": "code",
   "execution_count": 3,
   "id": "eeb7690c-bcb7-4f53-aa92-fb3389d23bd5",
   "metadata": {
    "tags": []
   },
   "outputs": [],
   "source": [
    "clusters = [8, 9, 10, 11, 12]\n",
    "silhouette_scores = [] \n",
    "\n",
    "for k in clusters:\n",
    "    kmeans = KMeans(n_clusters = k, random_state=42)\n",
    "    y_pred = kmeans.fit_predict(X)\n",
    "    score = silhouette_score(X, kmeans.labels_)\n",
    "    silhouette_scores.append(score)"
   ]
  },
  {
   "cell_type": "markdown",
   "id": "b1b36735-3483-45c8-8f0e-647f18260494",
   "metadata": {},
   "source": [
    "### 2. Wylicz wartośc wskaźnika sylwetkowego dla każdego z ww. skupisk.\n",
    "Zapisz wartość wszystkich wskaźników sylwetkowych jako listę w pliku Pickle o nazwie:\n",
    "- kmeans_sil.pkl."
   ]
  },
  {
   "cell_type": "code",
   "execution_count": 4,
   "id": "d4f24cde-d142-4c9e-b08e-e0070a37db8a",
   "metadata": {},
   "outputs": [],
   "source": [
    "with open(\"kmeans_sil.pkl\", 'wb') as f:\n",
    "    pickle.dump(silhouette_scores, f)"
   ]
  },
  {
   "cell_type": "markdown",
   "id": "50d65ac2-5b3e-47c5-b6eb-96afdd3e435a",
   "metadata": {},
   "source": [
    "### 3. Wartości wskaźnika sylwetkowego.\n",
    "Znany lingwista prof. Talent twierdzi, że w zbiorze X można zidentyfikować 10 różnych\n",
    "znaków. <br /> Czy wartości wskaźnika sylwetkowego potwierdzają tą obserwację?\n"
   ]
  },
  {
   "cell_type": "markdown",
   "id": "e05962b2-1b7f-4f8a-8de1-f18d8ba4de6d",
   "metadata": {},
   "source": [
    "### 4. Policz macierz błędów.\n",
    "Prof. Talent dostarczył swoich wyników klasyfikacji w postaci zbioru y. Policz macierz błędów\n",
    "pomiędzy danymi otrzymanymi z procesu klasteryazacji dla 10 skupisk i zbioru y.\n"
   ]
  },
  {
   "cell_type": "code",
   "execution_count": 5,
   "id": "2446dc61-d45d-4f3a-ac1c-a0080739bc72",
   "metadata": {},
   "outputs": [],
   "source": [
    "kmeans_10 = KMeans(n_clusters = 10, random_state=42)\n",
    "y_pred10 = kmeans_10.fit_predict(X)\n",
    "\n",
    "conf_matrix10 = confusion_matrix(y, y_pred10)"
   ]
  },
  {
   "cell_type": "code",
   "execution_count": 6,
   "id": "8489b83a-7334-4ab6-bc70-5444a479dbcb",
   "metadata": {},
   "outputs": [
    {
     "data": {
      "text/plain": [
       "array([[ 290,    2, 1265,   39,    9,    7,  162,    4,   72, 5053],\n",
       "       [   8, 4293,    7,    7,   10,   11,    7, 3526,    8,    0],\n",
       "       [ 323,  423,  246,  216, 4863,   78,  147,  436,  201,   57],\n",
       "       [4581,  449,  461,  193,  216,   45,   31,   58, 1083,   24],\n",
       "       [   0,  178,  288, 3728,   29, 2173,  168,  234,   17,    9],\n",
       "       [2129,  155, 1812,  432,    7,  215,   67,  280, 1156,   60],\n",
       "       [  38,  190, 2068,   67,   53,    4, 4326,   45,   14,   71],\n",
       "       [   6,  372,   12, 2094,   53, 4399,    4,  314,   18,   21],\n",
       "       [1212,  335,  292,  208,   53,  193,   51,  330, 4115,   36],\n",
       "       [  87,  261,   31, 3462,   19, 2849,   16,   95,   87,   51]])"
      ]
     },
     "execution_count": 6,
     "metadata": {},
     "output_type": "execute_result"
    }
   ],
   "source": [
    "conf_matrix10 "
   ]
  },
  {
   "cell_type": "markdown",
   "id": "2d4fb740-e076-4ae8-a84d-4998f3158605",
   "metadata": {
    "tags": []
   },
   "source": [
    "### 5. Dla każdego wiersza ww. macierzy znajdź indeks o najwyższej wartości\n",
    "(np. numpy.argmax() albo pandas.Series.argmax()).<br/> Wartości umieść na posortowanej rosnąco liście bez duplikatów (użyj np. set()). <br/>Listę zapisz w pliku Pickle o nazwie:\n",
    "- kmeans_argmax.pkl."
   ]
  },
  {
   "cell_type": "code",
   "execution_count": 7,
   "id": "b2aeeafb-fa06-4c95-8fce-b335c678a27a",
   "metadata": {},
   "outputs": [],
   "source": [
    "kmeans_argmax = []\n",
    "\n",
    "for row in conf_matrix10:\n",
    "    index = np.argmax(row)\n",
    "    if index not in kmeans_argmax:\n",
    "        kmeans_argmax.append(index)"
   ]
  },
  {
   "cell_type": "code",
   "execution_count": 8,
   "id": "14f265a7-50dc-4702-828c-70da11953227",
   "metadata": {},
   "outputs": [],
   "source": [
    "kmeans_argmax = np.sort(kmeans_argmax)"
   ]
  },
  {
   "cell_type": "code",
   "execution_count": 9,
   "id": "045cce3f-501d-4041-ab78-7f48edc0db30",
   "metadata": {},
   "outputs": [],
   "source": [
    "with open(\"kmeans_argmax.pkl\", 'wb') as f:\n",
    "    pickle.dump(kmeans_argmax, f)"
   ]
  },
  {
   "cell_type": "markdown",
   "id": "b5ad42ec-811e-4be9-b370-0e98f84f4858",
   "metadata": {},
   "source": [
    "### 6. Znajdź sensowne wartości parametru eps dla DBSCAN.\n",
    "Heurystyka dla określenia wartości parametru eps oparta jest o odległość eulidesową pomiędzy instancjami. Policz odległości dla pierwszych 300 elementów ze zbioru X. <br/>(użyj np. numpy.linalg.norm(x1-x2), gdzie x1 i x2 to punkty w przestrzeni wielowymiarowej), <br/>a następnie wyświetl 10 najmniejszych. Ww.<br/><br/>\n",
    "10 wartości umieść na liście w kolejności rosnącej, a listę zapisz w pliku Pickle o nazwie:\n",
    "- dist.pkl."
   ]
  },
  {
   "cell_type": "code",
   "execution_count": 10,
   "id": "00c10443-81ce-4589-9693-0ab2a83e1eb7",
   "metadata": {},
   "outputs": [],
   "source": [
    "norms = []\n",
    "\n",
    "for i in range(300):\n",
    "    for j in range(len(X)):\n",
    "        if i == j:\n",
    "            continue\n",
    "        norm = np.linalg.norm(X[i] - X[j]) \n",
    "        norms.append(norm)"
   ]
  },
  {
   "cell_type": "code",
   "execution_count": 11,
   "id": "0718457a-afc9-4618-a5c3-8de6aab8d1c9",
   "metadata": {},
   "outputs": [],
   "source": [
    "norm_sorted = np.unique(np.sort(norms))\n",
    "dist = norm_sorted[:10]"
   ]
  },
  {
   "cell_type": "code",
   "execution_count": 12,
   "id": "effc0fd4-c22f-48ae-a465-ede603996463",
   "metadata": {},
   "outputs": [],
   "source": [
    "with open(\"dist.pkl\", 'wb') as f:\n",
    "    pickle.dump(dist, f)"
   ]
  },
  {
   "cell_type": "markdown",
   "id": "4c496302-1711-428b-aba7-0245076928e2",
   "metadata": {
    "tags": []
   },
   "source": [
    "### 7. Policz średnią s z 3 najmniejszych wartości z ww. listy.\n",
    "Przyjmij kolejno wartości eps od s do s+10%*s z krokiem co 4%*s i wykonaj klasteryzacje.\n"
   ]
  },
  {
   "cell_type": "code",
   "execution_count": 13,
   "id": "532c41d8-9397-4f20-adb0-4be3f30d5aef",
   "metadata": {},
   "outputs": [],
   "source": [
    "s = np.mean(dist[:3])"
   ]
  },
  {
   "cell_type": "markdown",
   "id": "ec9e84f5-ad5e-4673-b11c-fe16e7430ba8",
   "metadata": {},
   "source": [
    "### 8. Dla każdej klasteryzacji (dla kolejnych wartości eps) policz ile jest unikalnych etykie zidentyfikowanych przez algorytm DBSCAN.\n",
    "Wartości umieść na liście i zapisz w pliku Pickle o nazwie:\n",
    "- dbscan_len.pkl.\n"
   ]
  },
  {
   "cell_type": "code",
   "execution_count": 15,
   "id": "61798c88-d9d0-48fe-b71b-0713bf02e542",
   "metadata": {},
   "outputs": [],
   "source": [
    "eps_values = np.arange(s, 1.1*s, step=0.04*s)\n",
    "dbscan_len = []\n",
    "\n",
    "for e in eps_values:\n",
    "    dbscan = DBSCAN(eps=e)\n",
    "    dbscan.fit(X)\n",
    "    unique_labels = set(dbscan.labels_)\n",
    "    dbscan_len.append(len(unique_labels))\n",
    "    "
   ]
  },
  {
   "cell_type": "code",
   "execution_count": 16,
   "id": "9557f2a4-21ce-4ac6-bb08-fd3e039c7f5a",
   "metadata": {},
   "outputs": [
    {
     "data": {
      "text/plain": [
       "[4, 7, 22]"
      ]
     },
     "execution_count": 16,
     "metadata": {},
     "output_type": "execute_result"
    }
   ],
   "source": [
    "dbscan_len"
   ]
  },
  {
   "cell_type": "code",
   "execution_count": 17,
   "id": "4bbd0069-f5a0-49c2-956c-22527e9c8ec2",
   "metadata": {},
   "outputs": [],
   "source": [
    "dbscan_len = \"dbscan_len.pkl\"\n",
    "\n",
    "with open(dbscan_len, 'wb') as f:\n",
    "    pickle.dump(dbscan_len, f)"
   ]
  },
  {
   "cell_type": "markdown",
   "id": "513f2545-35b5-456a-8baa-f7bf9cd0d8af",
   "metadata": {},
   "source": [
    "# 4. Prześlij raport"
   ]
  },
  {
   "cell_type": "markdown",
   "id": "984379a2-942d-4036-9383-0c938f2592b1",
   "metadata": {},
   "source": [
    "Prześlij plik o nazwie:\n",
    "- lab7.py\n",
    "realizujący ww. ćwiczenia.\n",
    "\n",
    "Sprawdzane będzie, czy skrypt Pythona tworzy wszystkie wymagane pliki oraz czy ich zawartość jest poprawna."
   ]
  }
 ],
 "metadata": {
  "kernelspec": {
   "display_name": "Python 3 (ipykernel)",
   "language": "python",
   "name": "python3"
  },
  "language_info": {
   "codemirror_mode": {
    "name": "ipython",
    "version": 3
   },
   "file_extension": ".py",
   "mimetype": "text/x-python",
   "name": "python",
   "nbconvert_exporter": "python",
   "pygments_lexer": "ipython3",
   "version": "3.9.7"
  }
 },
 "nbformat": 4,
 "nbformat_minor": 5
}
