{
 "cells": [
  {
   "cell_type": "markdown",
   "metadata": {
    "id": "32mG0O-wMdLv"
   },
   "source": [
    "# ***DECISION TREES***"
   ]
  },
  {
   "cell_type": "markdown",
   "metadata": {
    "collapsed": false,
    "id": "9w7dj4QXMdMD"
   },
   "source": [
    "### ***Cancer dataset***"
   ]
  },
  {
   "cell_type": "code",
   "execution_count": 1,
   "metadata": {
    "id": "yKTiL3mhMdMH"
   },
   "outputs": [],
   "source": [
    "import numpy as np\n",
    "import pandas as pd\n",
    "from sklearn import datasets\n",
    "from sklearn.model_selection import train_test_split\n",
    "from sklearn.tree import DecisionTreeClassifier\n",
    "from sklearn.tree import DecisionTreeRegressor\n",
    "from sklearn.metrics import f1_score\n",
    "from sklearn.tree import export_graphviz\n",
    "import graphviz\n",
    "import pickle\n",
    "from sklearn.metrics import accuracy_score\n",
    "from sklearn import preprocessing\n",
    "from sklearn.metrics import mean_squared_error\n",
    "import os "
   ]
  },
  {
   "cell_type": "code",
   "execution_count": 2,
   "metadata": {
    "id": "BBweo0bzMdMO"
   },
   "outputs": [],
   "source": [
    "data_breast_cancer = datasets.load_breast_cancer(as_frame=True)"
   ]
  },
  {
   "cell_type": "code",
   "execution_count": 3,
   "metadata": {
    "id": "Q8m9JzYiMdMT"
   },
   "outputs": [],
   "source": [
    "X_cancer = data_breast_cancer.data\n",
    "y_cancer = data_breast_cancer.target"
   ]
  },
  {
   "cell_type": "code",
   "execution_count": 4,
   "metadata": {
    "id": "QasMgte6MdMV"
   },
   "outputs": [],
   "source": [
    "X_cancer_train, X_cancer_test, y_cancer_train, y_cancer_test = train_test_split(X_cancer, y_cancer, test_size=0.2, random_state=42)"
   ]
  },
  {
   "cell_type": "code",
   "source": [
    "X_cancer_train_texture_symmetry = X_cancer_train[[\"mean texture\", \"mean symmetry\"]]\n",
    "X_cancer_test_texture_symmetry = X_cancer_test[[\"mean texture\", \"mean symmetry\"]]"
   ],
   "metadata": {
    "id": "_saqjjWD0iBe"
   },
   "execution_count": 5,
   "outputs": []
  },
  {
   "cell_type": "code",
   "execution_count": 6,
   "metadata": {
    "id": "0hxnCBmXMdMY"
   },
   "outputs": [],
   "source": [
    "tree_clf = DecisionTreeClassifier(max_depth=3, random_state=42)"
   ]
  },
  {
   "cell_type": "markdown",
   "metadata": {
    "id": "kPl-Kl9VMdMb"
   },
   "source": [
    "***TRAIN SET***"
   ]
  },
  {
   "cell_type": "code",
   "execution_count": 7,
   "metadata": {
    "id": "aow2-En0MdMe",
    "colab": {
     "base_uri": "https://localhost:8080/"
    },
    "outputId": "331b865a-6f96-4f42-b8af-94a77a5e178b"
   },
   "outputs": [
    {
     "output_type": "execute_result",
     "data": {
      "text/plain": [
       "DecisionTreeClassifier(max_depth=3, random_state=42)"
      ]
     },
     "metadata": {},
     "execution_count": 7
    }
   ],
   "source": [
    "tree_clf.fit(X_cancer_train_texture_symmetry, y_cancer_train)"
   ]
  },
  {
   "cell_type": "code",
   "execution_count": 8,
   "metadata": {
    "id": "xWjqDjITMdMi"
   },
   "outputs": [],
   "source": [
    "y_cancer_train_pred = tree_clf.predict(X_cancer_train_texture_symmetry)"
   ]
  },
  {
   "cell_type": "code",
   "execution_count": 9,
   "metadata": {
    "id": "ebxZ8G9yMdMk"
   },
   "outputs": [],
   "source": [
    "f1_score_train = f1_score(y_cancer_train_pred, y_cancer_train)"
   ]
  },
  {
   "cell_type": "code",
   "execution_count": 10,
   "metadata": {
    "id": "y16AEApEMdMm",
    "colab": {
     "base_uri": "https://localhost:8080/"
    },
    "outputId": "6d9b8256-0330-476f-a32f-dd8e1ddb0cb6"
   },
   "outputs": [
    {
     "output_type": "stream",
     "name": "stdout",
     "text": [
      "0.8211243611584327\n"
     ]
    }
   ],
   "source": [
    "print(f1_score_train)"
   ]
  },
  {
   "cell_type": "markdown",
   "metadata": {
    "id": "jQgTDPMoMdMo"
   },
   "source": [
    "***TEST SET***"
   ]
  },
  {
   "cell_type": "code",
   "execution_count": 11,
   "metadata": {
    "id": "IJkyImmXMdMq"
   },
   "outputs": [],
   "source": [
    "y_cancer_test_pred = tree_clf.predict(X_cancer_test_texture_symmetry)"
   ]
  },
  {
   "cell_type": "code",
   "execution_count": 12,
   "metadata": {
    "id": "Jm495KH6MdMs"
   },
   "outputs": [],
   "source": [
    "f1_score_test = f1_score(y_cancer_test_pred, y_cancer_test)"
   ]
  },
  {
   "cell_type": "code",
   "execution_count": 13,
   "metadata": {
    "id": "jrnfMvNPMdMu",
    "colab": {
     "base_uri": "https://localhost:8080/"
    },
    "outputId": "42fa9394-3366-4f04-93a2-68a3b3ea169f"
   },
   "outputs": [
    {
     "output_type": "stream",
     "name": "stdout",
     "text": [
      "0.7887323943661971\n"
     ]
    }
   ],
   "source": [
    "print(f1_score_test)"
   ]
  },
  {
   "cell_type": "markdown",
   "metadata": {
    "id": "IyMavZJPMdMv"
   },
   "source": [
    "***png***"
   ]
  },
  {
   "cell_type": "code",
   "execution_count": 14,
   "metadata": {
    "id": "1Q9eB5CWMdMx"
   },
   "outputs": [],
   "source": [
    "f = \"bc.dot\""
   ]
  },
  {
   "cell_type": "code",
   "execution_count": 15,
   "metadata": {
    "id": "hilYTIbaMdM0"
   },
   "outputs": [],
   "source": [
    "export_graphviz(tree_clf,\n",
    "                out_file=f,\n",
    "                feature_names=['mean texture', 'mean symmetry'],\n",
    "                class_names=[str(num)+\", \"+name\n",
    "                             for num,name in\n",
    "                             zip(set(y_cancer), data_breast_cancer.target_names)],\n",
    "                rounded=True,\n",
    "                filled=True)"
   ]
  },
  {
   "cell_type": "code",
   "execution_count": 16,
   "metadata": {
    "id": "VDhFDqtNMdM1",
    "colab": {
     "base_uri": "https://localhost:8080/",
     "height": 35
    },
    "outputId": "56bd254f-e5cd-424b-f770-43fe6c8eae02"
   },
   "outputs": [
    {
     "output_type": "execute_result",
     "data": {
      "text/plain": [
       "'bc.dot.png'"
      ],
      "application/vnd.google.colaboratory.intrinsic+json": {
       "type": "string"
      }
     },
     "metadata": {},
     "execution_count": 16
    }
   ],
   "source": [
    "graphviz.render('dot', 'png', f)"
   ]
  },
  {
   "cell_type": "code",
   "source": [
    "os.rename('bc.dot.png', 'bc.png')"
   ],
   "metadata": {
    "id": "wDjJNNAV4lDV"
   },
   "execution_count": 17,
   "outputs": []
  },
  {
   "cell_type": "code",
   "execution_count": 18,
   "metadata": {
    "id": "VpaB_fITMdM6"
   },
   "outputs": [],
   "source": [
    "acc_tree_clf_train = accuracy_score(y_cancer_train, y_cancer_train_pred)"
   ]
  },
  {
   "cell_type": "code",
   "execution_count": 19,
   "metadata": {
    "id": "P39vq2tbMdM8"
   },
   "outputs": [],
   "source": [
    "acc_tree_clf_test = accuracy_score(y_cancer_test, y_cancer_test_pred)"
   ]
  },
  {
   "cell_type": "code",
   "execution_count": 20,
   "metadata": {
    "id": "q2sjZIY4MdM8"
   },
   "outputs": [],
   "source": [
    "f1acc_tree = [tree_clf.max_depth, f1_score_train, f1_score_test, acc_tree_clf_train, acc_tree_clf_test]"
   ]
  },
  {
   "cell_type": "code",
   "execution_count": 21,
   "metadata": {
    "id": "lKdtpADTMdM-"
   },
   "outputs": [],
   "source": [
    "with open('f1acc_tree.pkl', 'wb') as f:\n",
    "    pickle.dump(f1acc_tree, f)"
   ]
  },
  {
   "cell_type": "code",
   "source": [
    "print(f1acc_tree)"
   ],
   "metadata": {
    "colab": {
     "base_uri": "https://localhost:8080/"
    },
    "id": "QgQ2XY0W1FBE",
    "outputId": "5c8c05e6-df36-4e8a-84c3-e2067920178f"
   },
   "execution_count": 22,
   "outputs": [
    {
     "output_type": "stream",
     "name": "stdout",
     "text": [
      "[3, 0.8211243611584327, 0.7887323943661971, 0.7692307692307693, 0.7368421052631579]\n"
     ]
    }
   ]
  },
  {
   "cell_type": "markdown",
   "metadata": {
    "collapsed": false,
    "id": "NFZhZIvpMdM_"
   },
   "source": [
    "## ***REGRESSION***"
   ]
  },
  {
   "cell_type": "code",
   "execution_count": 23,
   "metadata": {
    "id": "9dAx-AKIMdNA",
    "colab": {
     "base_uri": "https://localhost:8080/",
     "height": 296
    },
    "outputId": "6635b28f-b34c-4c35-ebd1-40604f51339a"
   },
   "outputs": [
    {
     "output_type": "execute_result",
     "data": {
      "text/plain": [
       "<matplotlib.axes._subplots.AxesSubplot at 0x7fe43abdcb50>"
      ]
     },
     "metadata": {},
     "execution_count": 23
    },
    {
     "output_type": "display_data",
     "data": {
      "text/plain": [
       "<Figure size 432x288 with 1 Axes>"
      ],
      "image/png": "[encoded data removed]"
     },
     "metadata": {
      "needs_background": "light"
     }
    }
   ],
   "source": [
    "size = 300\n",
    "X = np.random.rand(size)*5-2.5\n",
    "w4, w3, w2, w1, w0 = 1, 2, 1, -4, 2\n",
    "y = w4*(X**4) + w3*(X**3) + w2*(X**2) + w1*X + w0 + np.random.randn(size)*8-4\n",
    "df = pd.DataFrame({'x': X, 'y': y})\n",
    "df.plot.scatter(x='x',y='y')"
   ]
  },
  {
   "cell_type": "code",
   "execution_count": 24,
   "metadata": {
    "id": "gD5CnoqGMdNB"
   },
   "outputs": [],
   "source": [
    "X_train, X_test, y_train, y_test = train_test_split(X, y, test_size=0.2, random_state=42)"
   ]
  },
  {
   "cell_type": "code",
   "execution_count": 25,
   "metadata": {
    "id": "-2kw6LuGMdNC"
   },
   "outputs": [],
   "source": [
    "tree_reg = DecisionTreeRegressor(max_depth=3, random_state=42)"
   ]
  },
  {
   "cell_type": "code",
   "execution_count": 26,
   "metadata": {
    "id": "p-owsw3vMdND"
   },
   "outputs": [],
   "source": [
    "X_train = X_train.reshape(-1, 1)"
   ]
  },
  {
   "cell_type": "code",
   "execution_count": 27,
   "metadata": {
    "id": "Ua4hKfQiMdNE"
   },
   "outputs": [],
   "source": [
    "tree_reg.fit(X_train, y_train)\n",
    "\n",
    "y_train_pred = tree_reg.predict(X_train)"
   ]
  },
  {
   "cell_type": "code",
   "source": [
    "mse_train = mean_squared_error(y_train_pred, y_train)"
   ],
   "metadata": {
    "id": "vJ7dJ_Uk2WvQ"
   },
   "execution_count": 28,
   "outputs": []
  },
  {
   "cell_type": "code",
   "source": [
    "X_test = X_test.reshape(-1, 1)\n",
    "\n",
    "y_test_pred = tree_reg.predict(X_test)\n",
    "\n",
    "mse_test = mean_squared_error(y_test_pred, y_test)"
   ],
   "metadata": {
    "id": "iME8vIDI2hHF"
   },
   "execution_count": 29,
   "outputs": []
  },
  {
   "cell_type": "code",
   "source": [
    "df.columns"
   ],
   "metadata": {
    "colab": {
     "base_uri": "https://localhost:8080/"
    },
    "id": "rZzgSsiG5KPg",
    "outputId": "6ef456cd-8fb3-4888-b5ec-4738886e40c8"
   },
   "execution_count": 30,
   "outputs": [
    {
     "output_type": "execute_result",
     "data": {
      "text/plain": [
       "Index(['x', 'y'], dtype='object')"
      ]
     },
     "metadata": {},
     "execution_count": 30
    }
   ]
  },
  {
   "cell_type": "code",
   "source": [
    "g = \"reg.dot\""
   ],
   "metadata": {
    "id": "YTRmDKFD3p8W"
   },
   "execution_count": 31,
   "outputs": []
  },
  {
   "cell_type": "code",
   "source": [
    "export_graphviz(tree_reg,\n",
    "                out_file=g,\n",
    "                feature_names=['x'],\n",
    "                class_names=[str(num)+\", \"+name\n",
    "                             for num,name in\n",
    "                             zip(set(y), ['x'])],\n",
    "                rounded=True,\n",
    "                filled=True)"
   ],
   "metadata": {
    "id": "bdE-6Myx5CTI"
   },
   "execution_count": 32,
   "outputs": []
  },
  {
   "cell_type": "code",
   "source": [
    "graphviz.render('dot', 'png', g)"
   ],
   "metadata": {
    "colab": {
     "base_uri": "https://localhost:8080/",
     "height": 35
    },
    "id": "DKlGdkQT60z6",
    "outputId": "51e190e6-7cd8-496c-903c-74a129ee4134"
   },
   "execution_count": 33,
   "outputs": [
    {
     "output_type": "execute_result",
     "data": {
      "text/plain": [
       "'reg.dot.png'"
      ],
      "application/vnd.google.colaboratory.intrinsic+json": {
       "type": "string"
      }
     },
     "metadata": {},
     "execution_count": 33
    }
   ]
  },
  {
   "cell_type": "code",
   "source": [
    "os.rename('reg.dot.png', 'reg.png')"
   ],
   "metadata": {
    "id": "HXoMnO34_lkJ"
   },
   "execution_count": 34,
   "outputs": []
  },
  {
   "cell_type": "code",
   "source": [
    "mse_tree = [tree_reg.max_depth, mse_train, mse_test]"
   ],
   "metadata": {
    "id": "02dNScV8C9BK"
   },
   "execution_count": 35,
   "outputs": []
  },
  {
   "cell_type": "code",
   "source": [
    "with open('mse_tree.pkl', 'wb') as f:\n",
    "    pickle.dump(mse_tree, f)"
   ],
   "metadata": {
    "id": "HtCRUzc8AL4g"
   },
   "execution_count": 37,
   "outputs": []
  }
 ],
 "metadata": {
  "colab": {
   "name": "lab5.ipynb",
   "provenance": []
  },
  "kernelspec": {
   "display_name": "Python 3 (ipykernel)",
   "language": "python",
   "name": "python3"
  },
  "language_info": {
   "codemirror_mode": {
    "name": "ipython",
    "version": 3
   },
   "file_extension": ".py",
   "mimetype": "text/x-python",
   "name": "python",
   "nbconvert_exporter": "python",
   "pygments_lexer": "ipython3",
   "version": "3.9.10"
  }
 },
 "nbformat": 4,
 "nbformat_minor": 0
}