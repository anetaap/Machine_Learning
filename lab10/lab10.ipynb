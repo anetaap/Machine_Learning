{
 "cells": [
  {
   "cell_type": "markdown",
   "metadata": {
    "pycharm": {
     "name": "#%% md\n"
    }
   },
   "source": [
    "# <center> Laboratorium: Klasyfikacja i regresja w Keras </center>"
   ]
  },
  {
   "cell_type": "markdown",
   "metadata": {
    "pycharm": {
     "name": "#%% md\n"
    }
   },
   "source": [
    "### 1. Zakres ćwiczeń\n",
    "- Przypomnienie zasad budowy prostych sieci neuronowych dla klasyfikacji oraz regresji.\n",
    "- Budowanie sieci przy pomocy API Sequential Keras.\n",
    "- Zbieranie danych procesu uczenia i jego wizualizacja przy pomocy TensorBoard.\n",
    "- Korzystanie z mechanizmu early stopping do zatrzymania procesu uczenia w odpowiednim\n",
    "czasie."
   ]
  },
  {
   "cell_type": "markdown",
   "metadata": {
    "pycharm": {
     "name": "#%% md\n"
    }
   },
   "source": [
    "### 2. Zadania\n",
    "##### 2.1 Klasyfikacja obrazów\n",
    "- Pobierz zbiór danych _Fashion MNIST_."
   ]
  },
  {
   "cell_type": "code",
   "execution_count": 1,
   "metadata": {
    "pycharm": {
     "name": "#%%\n"
    }
   },
   "outputs": [],
   "source": [
    "%load_ext tensorboard"
   ]
  },
  {
   "cell_type": "code",
   "execution_count": 2,
   "metadata": {
    "pycharm": {
     "name": "#%%\n"
    }
   },
   "outputs": [],
   "source": [
    "import os\n",
    "import time\n",
    "import numpy as np\n",
    "import matplotlib.pyplot as plt\n",
    "import tensorflow as tf\n",
    "from tensorflow import keras\n",
    "from sklearn.datasets import fetch_california_housing\n",
    "from sklearn.model_selection import train_test_split\n",
    "from sklearn.preprocessing import StandardScaler"
   ]
  },
  {
   "cell_type": "code",
   "execution_count": 3,
   "metadata": {
    "pycharm": {
     "name": "#%%\n"
    }
   },
   "outputs": [],
   "source": [
    "fashion_mnist = tf.keras.datasets.fashion_mnist\n",
    "(X_train, y_train), (X_test, y_test) = fashion_mnist.load_data()\n",
    "assert X_train.shape == (60000, 28, 28)\n",
    "assert X_test.shape == (10000, 28, 28)\n",
    "assert y_train.shape == (60000,)\n",
    "assert y_test.shape == (10000,)"
   ]
  },
  {
   "cell_type": "markdown",
   "metadata": {
    "pycharm": {
     "name": "#%% md\n"
    }
   },
   "source": [
    "- Przeskaluj wartości z zakresu 0–255 do zakresu 0–1."
   ]
  },
  {
   "cell_type": "code",
   "execution_count": 4,
   "metadata": {
    "pycharm": {
     "name": "#%%\n"
    }
   },
   "outputs": [],
   "source": [
    "X_train = X_train/255\n",
    "X_test = X_test/255"
   ]
  },
  {
   "cell_type": "markdown",
   "metadata": {
    "pycharm": {
     "name": "#%% md\n"
    }
   },
   "source": [
    "- Wyświetl przykładowy rysunek używany do klasyfikacji:"
   ]
  },
  {
   "cell_type": "code",
   "execution_count": 5,
   "metadata": {
    "pycharm": {
     "name": "#%%\n"
    }
   },
   "outputs": [
    {
     "data": {
      "text/plain": "<Figure size 432x288 with 1 Axes>",
      "image/png": "[encoded data removed]"
     },
     "metadata": {
      "needs_background": "light"
     },
     "output_type": "display_data"
    }
   ],
   "source": [
    "plt.imshow(X_train[142], cmap=\"binary\")\n",
    "plt.axis('off')\n",
    "plt.show()"
   ]
  },
  {
   "cell_type": "markdown",
   "metadata": {
    "pycharm": {
     "name": "#%% md\n"
    }
   },
   "source": [
    "- Utwórz listę nazw kategorii zgodnie ze specyfikacją zbioru danych:"
   ]
  },
  {
   "cell_type": "code",
   "execution_count": 6,
   "metadata": {
    "pycharm": {
     "name": "#%%\n"
    }
   },
   "outputs": [
    {
     "data": {
      "text/plain": "'but'"
     },
     "execution_count": 6,
     "metadata": {},
     "output_type": "execute_result"
    }
   ],
   "source": [
    "class_names = [\"koszulka\", \"spodnie\", \"pulower\", \"sukienka\", \"kurtka\",\n",
    "\"sandał\", \"koszula\", \"but\", \"torba\", \"kozak\"]\n",
    "class_names[y_train[142]]"
   ]
  },
  {
   "cell_type": "markdown",
   "metadata": {
    "pycharm": {
     "name": "#%% md\n"
    }
   },
   "source": [
    "- Stwórz model sekwencyjny zawierający warstwy gęste:\n",
    "    • warstwę spłaszczającą dane, tj. przekształcającą z postaci (28,28) do postaci (784,),\n",
    "    • warstwę ukrytą zawierającą 300 neuronów,\n",
    "    • warstwę ukrytą zawierającą 100 neuronów,\n",
    "    • warstwę wyjściową odpowiednią dla problemu klasyfikacji przy 10 klasach."
   ]
  },
  {
   "cell_type": "code",
   "execution_count": 7,
   "metadata": {
    "pycharm": {
     "name": "#%%\n"
    }
   },
   "outputs": [],
   "source": [
    "model = keras.models.Sequential()\n",
    "\n",
    "model.add(keras.layers.Flatten(input_shape=(28,28)))\n",
    "model.add(keras.layers.Dense(300, activation=\"relu\"))\n",
    "model.add(keras.layers.Dense(100, activation=\"relu\"))\n",
    "model.add(keras.layers.Dense(10,activation=\"softmax\"))"
   ]
  },
  {
   "cell_type": "markdown",
   "metadata": {
    "pycharm": {
     "name": "#%% md\n"
    }
   },
   "source": [
    "- Wyświetl podsumowanie i graficzną reprezentację struktury sieci."
   ]
  },
  {
   "cell_type": "code",
   "execution_count": 8,
   "metadata": {
    "pycharm": {
     "name": "#%%\n"
    }
   },
   "outputs": [
    {
     "name": "stdout",
     "output_type": "stream",
     "text": [
      "Model: \"sequential\"\n",
      "_________________________________________________________________\n",
      " Layer (type)                Output Shape              Param #   \n",
      "=================================================================\n",
      " flatten (Flatten)           (None, 784)               0         \n",
      "                                                                 \n",
      " dense (Dense)               (None, 300)               235500    \n",
      "                                                                 \n",
      " dense_1 (Dense)             (None, 100)               30100     \n",
      "                                                                 \n",
      " dense_2 (Dense)             (None, 10)                1010      \n",
      "                                                                 \n",
      "=================================================================\n",
      "Total params: 266,610\n",
      "Trainable params: 266,610\n",
      "Non-trainable params: 0\n",
      "_________________________________________________________________\n"
     ]
    },
    {
     "data": {
      "image/png": "[encoded data removed]",
      "text/plain": "<IPython.core.display.Image object>"
     },
     "execution_count": 8,
     "metadata": {},
     "output_type": "execute_result"
    }
   ],
   "source": [
    "model.summary()\n",
    "tf.keras.utils.plot_model(model, \"fashion_mnist.png\", show_shapes=True)"
   ]
  },
  {
   "cell_type": "markdown",
   "metadata": {
    "pycharm": {
     "name": "#%% md\n"
    }
   },
   "source": [
    "- Skompiluj model, podając rzadką entropię krzyżową jako funkcję straty, SGD jako opymalizator i\n",
    "dokładność jako metrykę"
   ]
  },
  {
   "cell_type": "code",
   "execution_count": 9,
   "metadata": {
    "pycharm": {
     "name": "#%%\n"
    }
   },
   "outputs": [],
   "source": [
    "model.compile(loss='sparse_categorical_crossentropy',\n",
    "              optimizer=tf.keras.optimizers.SGD(learning_rate=0.1),\n",
    "              metrics='accuracy')"
   ]
  },
  {
   "cell_type": "markdown",
   "metadata": {
    "pycharm": {
     "name": "#%% md\n"
    }
   },
   "source": [
    "- Przygotuj callback Tensorboard do zbierania historii uczenia w katalogu image_logs, będącym\n",
    "podkatalogim bieżącego katalogu. Można do tego użyć takiej funkcji jak poniżej, która przy każdym\n",
    "wywołaniu będzie zwracała nowy katalog o nazwie opartej o aktualny czas. Alternatywnie możesz\n",
    "nazywać katalogi np. oznaczając w nazwie informacje o strukturze sieci. Pamiętaj, że TensorBoard\n",
    "zawsze szuka w podanym katalogu podkatalogów odpowiadających kolejnym procesom uczenia\n",
    "sieci."
   ]
  },
  {
   "cell_type": "code",
   "execution_count": 10,
   "metadata": {
    "pycharm": {
     "name": "#%%\n"
    }
   },
   "outputs": [],
   "source": [
    "root_logdir = os.path.join(os.curdir, \"image_logs\")\n",
    "def get_run_logdir():\n",
    "    run_id = time.strftime(\"run_%Y_%m_%d-%H_%M_%S\")\n",
    "    return os.path.join(root_logdir, run_id)\n",
    "run_logdir = get_run_logdir()\n",
    "tensorboard_cb = tf.keras.callbacks.TensorBoard(run_logdir)"
   ]
  },
  {
   "cell_type": "markdown",
   "metadata": {
    "pycharm": {
     "name": "#%% md\n"
    }
   },
   "source": [
    "- Przyucz model przez 20 epok. Wykorzystaj 10% zbioru uczącego jako zbioru walidacyjnego – zwróć\n",
    "uwagę, że nie został on wcześniej wydzielony ręcznie. Pamiętaj o dołączeniu callbacku TensorBoard."
   ]
  },
  {
   "cell_type": "code",
   "execution_count": 11,
   "metadata": {
    "pycharm": {
     "name": "#%%\n"
    }
   },
   "outputs": [
    {
     "name": "stdout",
     "output_type": "stream",
     "text": [
      "Epoch 1/20\n",
      "1688/1688 [==============================] - 7s 3ms/step - loss: 0.5359 - accuracy: 0.8039 - val_loss: 0.5784 - val_accuracy: 0.7872\n",
      "Epoch 2/20\n",
      "1688/1688 [==============================] - 5s 3ms/step - loss: 0.3889 - accuracy: 0.8565 - val_loss: 0.3871 - val_accuracy: 0.8592\n",
      "Epoch 3/20\n",
      "1688/1688 [==============================] - 6s 4ms/step - loss: 0.3459 - accuracy: 0.8723 - val_loss: 0.3772 - val_accuracy: 0.8647\n",
      "Epoch 4/20\n",
      "1688/1688 [==============================] - 6s 3ms/step - loss: 0.3216 - accuracy: 0.8807 - val_loss: 0.3509 - val_accuracy: 0.8677\n",
      "Epoch 5/20\n",
      "1688/1688 [==============================] - 5s 3ms/step - loss: 0.3041 - accuracy: 0.8870 - val_loss: 0.3370 - val_accuracy: 0.8760\n",
      "Epoch 6/20\n",
      "1688/1688 [==============================] - 5s 3ms/step - loss: 0.2856 - accuracy: 0.8921 - val_loss: 0.3668 - val_accuracy: 0.8677\n",
      "Epoch 7/20\n",
      "1688/1688 [==============================] - 6s 4ms/step - loss: 0.2720 - accuracy: 0.8975 - val_loss: 0.3230 - val_accuracy: 0.8797\n",
      "Epoch 8/20\n",
      "1688/1688 [==============================] - 9s 5ms/step - loss: 0.2611 - accuracy: 0.9014 - val_loss: 0.3310 - val_accuracy: 0.8728\n",
      "Epoch 9/20\n",
      "1688/1688 [==============================] - 8s 5ms/step - loss: 0.2504 - accuracy: 0.9052 - val_loss: 0.3737 - val_accuracy: 0.8665\n",
      "Epoch 10/20\n",
      "1688/1688 [==============================] - 7s 4ms/step - loss: 0.2423 - accuracy: 0.9079 - val_loss: 0.3311 - val_accuracy: 0.8847\n",
      "Epoch 11/20\n",
      "1688/1688 [==============================] - 5s 3ms/step - loss: 0.2331 - accuracy: 0.9119 - val_loss: 0.3528 - val_accuracy: 0.8723\n",
      "Epoch 12/20\n",
      "1688/1688 [==============================] - 5s 3ms/step - loss: 0.2245 - accuracy: 0.9150 - val_loss: 0.6655 - val_accuracy: 0.8062\n",
      "Epoch 13/20\n",
      "1688/1688 [==============================] - 5s 3ms/step - loss: 0.2181 - accuracy: 0.9164 - val_loss: 0.3290 - val_accuracy: 0.8882\n",
      "Epoch 14/20\n",
      "1688/1688 [==============================] - 5s 3ms/step - loss: 0.2111 - accuracy: 0.9197 - val_loss: 0.3404 - val_accuracy: 0.8870\n",
      "Epoch 15/20\n",
      "1688/1688 [==============================] - 6s 3ms/step - loss: 0.2025 - accuracy: 0.9230 - val_loss: 0.3453 - val_accuracy: 0.8818\n",
      "Epoch 16/20\n",
      "1688/1688 [==============================] - 5s 3ms/step - loss: 0.1972 - accuracy: 0.9243 - val_loss: 0.3271 - val_accuracy: 0.8883\n",
      "Epoch 17/20\n",
      "1688/1688 [==============================] - 5s 3ms/step - loss: 0.1919 - accuracy: 0.9268 - val_loss: 0.3428 - val_accuracy: 0.8880\n",
      "Epoch 18/20\n",
      "1688/1688 [==============================] - 5s 3ms/step - loss: 0.1859 - accuracy: 0.9295 - val_loss: 0.3469 - val_accuracy: 0.8845\n",
      "Epoch 19/20\n",
      "1688/1688 [==============================] - 5s 3ms/step - loss: 0.1807 - accuracy: 0.9313 - val_loss: 0.3305 - val_accuracy: 0.8908\n",
      "Epoch 20/20\n",
      "1688/1688 [==============================] - 6s 3ms/step - loss: 0.1751 - accuracy: 0.9340 - val_loss: 0.3408 - val_accuracy: 0.8888\n"
     ]
    }
   ],
   "source": [
    "history = model.fit(X_train, y_train, epochs=20,\n",
    "    validation_split = 0.1, callbacks=[tensorboard_cb])"
   ]
  },
  {
   "cell_type": "markdown",
   "metadata": {
    "pycharm": {
     "name": "#%% md\n"
    }
   },
   "source": [
    "- Wykonaj kilka przykładowych predykcji dla losowych elementów zbioru testowego. Czy podpisy\n",
    "odpowiadają zawartości obrazków?"
   ]
  },
  {
   "cell_type": "code",
   "execution_count": 12,
   "metadata": {
    "pycharm": {
     "name": "#%%\n"
    }
   },
   "outputs": [
    {
     "name": "stdout",
     "output_type": "stream",
     "text": [
      "Prediction: sandał\n",
      "Confidence: 1.0\n",
      "Truth: sandał\n"
     ]
    },
    {
     "data": {
      "text/plain": "<Figure size 432x288 with 1 Axes>",
      "image/png": "[encoded data removed]"
     },
     "metadata": {
      "needs_background": "light"
     },
     "output_type": "display_data"
    }
   ],
   "source": [
    "image_index = np.random.randint(len(X_test))\n",
    "image = np.array([X_test[image_index]])\n",
    "confidences = model.predict(image)\n",
    "confidence = np.max(confidences[0])\n",
    "prediction = np.argmax(confidences[0])\n",
    "print(\"Prediction:\", class_names[prediction])\n",
    "print(\"Confidence:\", confidence)\n",
    "print(\"Truth:\", class_names[y_test[image_index]])\n",
    "plt.imshow(image[0], cmap=\"binary\")\n",
    "plt.axis('off')\n",
    "plt.show()"
   ]
  },
  {
   "cell_type": "markdown",
   "metadata": {
    "pycharm": {
     "name": "#%% md\n"
    }
   },
   "source": [
    "- Przeanalizuj proces uczenia uruchamiając TensorBoard"
   ]
  },
  {
   "cell_type": "code",
   "execution_count": 13,
   "metadata": {
    "pycharm": {
     "name": "#%%\n"
    }
   },
   "outputs": [],
   "source": [
    "# %tensorboard --logdir ./image_logs"
   ]
  },
  {
   "cell_type": "markdown",
   "metadata": {
    "pycharm": {
     "name": "#%% md\n"
    }
   },
   "source": [
    "- Zapisz model w pliku fashion_clf.h5:"
   ]
  },
  {
   "cell_type": "code",
   "execution_count": 14,
   "metadata": {
    "pycharm": {
     "name": "#%%\n"
    }
   },
   "outputs": [],
   "source": [
    "model.save('fashion_clf.h5')"
   ]
  },
  {
   "cell_type": "markdown",
   "metadata": {
    "pycharm": {
     "name": "#%% md\n"
    }
   },
   "source": [
    "#### _2.2 Regresja_\n",
    "- Pobierz zbiór danych California Housing z pakietu scikit-learn:"
   ]
  },
  {
   "cell_type": "code",
   "execution_count": 15,
   "metadata": {
    "pycharm": {
     "name": "#%%\n"
    }
   },
   "outputs": [],
   "source": [
    "housing = fetch_california_housing()"
   ]
  },
  {
   "cell_type": "markdown",
   "metadata": {
    "pycharm": {
     "name": "#%% md\n"
    }
   },
   "source": [
    "- Podziel zbiór na uczący, walidacyjny i testowy. Zauważ, że tym razem wydzielamy zbiór walidacyjny\n",
    "_explicite_ i nie będziemy korzystali z argumentu **validation_split** metody **fit**."
   ]
  },
  {
   "cell_type": "code",
   "execution_count": 16,
   "metadata": {
    "pycharm": {
     "name": "#%%\n"
    }
   },
   "outputs": [],
   "source": [
    "X_train_full, X_test, y_train_full, y_test = train_test_split(housing.data,housing.target, random_state=42)\n",
    "X_train, X_valid, y_train, y_valid = train_test_split(X_train_full,y_train_full, random_state=42)"
   ]
  },
  {
   "cell_type": "markdown",
   "metadata": {
    "pycharm": {
     "name": "#%% md\n"
    }
   },
   "source": [
    "- Przeskaluj wszystkie zbiory cech, kalibrując funkcję normalizacyjną do zbioru uczącego:"
   ]
  },
  {
   "cell_type": "code",
   "execution_count": 17,
   "metadata": {
    "pycharm": {
     "name": "#%%\n"
    }
   },
   "outputs": [],
   "source": [
    "scaler = StandardScaler()\n",
    "X_train = scaler.fit_transform(X_train)\n",
    "X_valid = scaler.transform(X_valid)\n",
    "X_test = scaler.transform(X_test)"
   ]
  },
  {
   "cell_type": "markdown",
   "metadata": {
    "pycharm": {
     "name": "#%% md\n"
    }
   },
   "source": [
    "- Utwórz model, zawierający jedną warstwę ukrytą z 30 neuronami, odpowiedni do regresji jednego parametru wyjściowego obecnego w zbiorze danych.\n",
    "- Skompiluj go używając błędu średniokwadratwego jako funkcji straty i SGD jako optymalizatora."
   ]
  },
  {
   "cell_type": "code",
   "execution_count": 18,
   "metadata": {
    "pycharm": {
     "name": "#%%\n"
    }
   },
   "outputs": [],
   "source": [
    "modelReg = keras.models.Sequential()\n",
    "\n",
    "modelReg.add(keras.layers.Dense(30, activation=\"relu\", input_shape=X_train.shape[1:]))\n",
    "modelReg.add(keras.layers.Dense(1))"
   ]
  },
  {
   "cell_type": "code",
   "execution_count": 19,
   "metadata": {
    "pycharm": {
     "name": "#%%\n"
    }
   },
   "outputs": [],
   "source": [
    "modelReg.compile(loss=\"mean_squared_error\", optimizer='sgd')"
   ]
  },
  {
   "cell_type": "markdown",
   "metadata": {
    "pycharm": {
     "name": "#%% md\n"
    }
   },
   "source": [
    "- Przygotuj callback _early stopping_ o cierpliwości równej 5 epok, minimalnej wartości poprawy\n",
    "wynoszącej 0.01 i włączając wyświetlanie komunikatów o przerwaniu uczenia na ekranie:"
   ]
  },
  {
   "cell_type": "code",
   "execution_count": 20,
   "metadata": {
    "pycharm": {
     "name": "#%%\n"
    }
   },
   "outputs": [],
   "source": [
    "es = tf.keras.callbacks.EarlyStopping(patience=5, min_delta=0.01, verbose=1)"
   ]
  },
  {
   "cell_type": "markdown",
   "metadata": {
    "pycharm": {
     "name": "#%% md\n"
    }
   },
   "source": [
    "- Podobnie jak w poprzednim ćwiczeniu, przygotuj callback Tensorboard, tak aby zbierał logi do\n",
    "katalogu **housing_logs**."
   ]
  },
  {
   "cell_type": "code",
   "execution_count": 21,
   "metadata": {
    "pycharm": {
     "name": "#%%\n"
    }
   },
   "outputs": [],
   "source": [
    "root_logdir_ = os.path.join(os.curdir, \"housing_logs\")\n",
    "def get_run_logdir():\n",
    "    run_id = time.strftime(\"run_%Y_%m_%d-%H_%M_%S\")\n",
    "    return os.path.join(root_logdir_, run_id)\n",
    "run_logdir_ = get_run_logdir()\n",
    "tensorboard_cb_ = tf.keras.callbacks.TensorBoard(run_logdir_)"
   ]
  },
  {
   "cell_type": "markdown",
   "metadata": {
    "pycharm": {
     "name": "#%% md\n"
    }
   },
   "source": [
    "- Przeprowadź uczenie modelu korzystając z obu callbacków (_early stopping_ i TensorBoard). Jaką\n",
    "liczbę epok uczenia należy podać w tym przypadku?"
   ]
  },
  {
   "cell_type": "code",
   "execution_count": 22,
   "metadata": {
    "pycharm": {
     "name": "#%%\n"
    }
   },
   "outputs": [
    {
     "name": "stdout",
     "output_type": "stream",
     "text": [
      "Epoch 1/30\n",
      "363/363 [==============================] - 1s 2ms/step - loss: 1.1425 - val_loss: 5.7457\n",
      "Epoch 2/30\n",
      "363/363 [==============================] - 1s 2ms/step - loss: 0.4384 - val_loss: 0.8131\n",
      "Epoch 3/30\n",
      "363/363 [==============================] - 1s 2ms/step - loss: 0.4135 - val_loss: 1.7896\n",
      "Epoch 4/30\n",
      "363/363 [==============================] - 1s 2ms/step - loss: 0.4023 - val_loss: 2.4227\n",
      "Epoch 5/30\n",
      "363/363 [==============================] - 1s 2ms/step - loss: 0.4082 - val_loss: 1.5640\n",
      "Epoch 6/30\n",
      "363/363 [==============================] - 1s 2ms/step - loss: 0.3953 - val_loss: 0.3672\n",
      "Epoch 7/30\n",
      "363/363 [==============================] - 1s 1ms/step - loss: 0.3772 - val_loss: 0.3665\n",
      "Epoch 8/30\n",
      "363/363 [==============================] - 1s 1ms/step - loss: 0.3740 - val_loss: 0.3552\n",
      "Epoch 9/30\n",
      "363/363 [==============================] - 1s 2ms/step - loss: 0.3708 - val_loss: 0.3900\n",
      "Epoch 10/30\n",
      "363/363 [==============================] - 1s 2ms/step - loss: 0.3743 - val_loss: 0.3544\n",
      "Epoch 11/30\n",
      "363/363 [==============================] - 1s 1ms/step - loss: 0.3643 - val_loss: 0.3622\n",
      "Epoch 12/30\n",
      "363/363 [==============================] - 1s 2ms/step - loss: 0.3626 - val_loss: 0.3401\n",
      "Epoch 13/30\n",
      "363/363 [==============================] - 1s 2ms/step - loss: 0.3595 - val_loss: 0.3671\n",
      "Epoch 14/30\n",
      "363/363 [==============================] - 1s 2ms/step - loss: 0.3584 - val_loss: 0.3470\n",
      "Epoch 15/30\n",
      "363/363 [==============================] - 1s 2ms/step - loss: 0.3562 - val_loss: 0.3475\n",
      "Epoch 16/30\n",
      "363/363 [==============================] - 1s 2ms/step - loss: 0.3546 - val_loss: 0.3369\n",
      "Epoch 17/30\n",
      "363/363 [==============================] - 1s 2ms/step - loss: 0.3532 - val_loss: 0.3347\n",
      "Epoch 17: early stopping\n"
     ]
    }
   ],
   "source": [
    "historyReg1 = modelReg.fit(X_train, y_train, epochs=30,\n",
    "    validation_data=(X_valid, y_valid), callbacks=[es, tensorboard_cb_])"
   ]
  },
  {
   "cell_type": "markdown",
   "source": [
    "- Zapisz model w pliku reg_housing_1.h5."
   ],
   "metadata": {
    "collapsed": false,
    "pycharm": {
     "name": "#%% md\n"
    }
   }
  },
  {
   "cell_type": "code",
   "execution_count": 23,
   "metadata": {
    "pycharm": {
     "name": "#%%\n"
    }
   },
   "outputs": [],
   "source": [
    "modelReg.save('reg_housing_1.h5')"
   ]
  },
  {
   "cell_type": "markdown",
   "source": [
    "- Utwórz jeszcze co najmniej dwa modele o innej strukturze – poeksperymentuj z liczbą warstw oraz\n",
    "liczbą jednostek na jednej warstwie. Zapisz je w plikach reg_housing_2.h5, reg_housing_3.h5,\n",
    "itd.\n",
    "- Zapisuj logi TensorBoard w kolejnych podkatalogach katalogu housing_logs."
   ],
   "metadata": {
    "collapsed": false,
    "pycharm": {
     "name": "#%% md\n"
    }
   }
  },
  {
   "cell_type": "code",
   "execution_count": 24,
   "metadata": {
    "pycharm": {
     "name": "#%%\n"
    }
   },
   "outputs": [],
   "source": [
    "modelReg2 = keras.models.Sequential()\n",
    "\n",
    "modelReg2.add(keras.layers.Dense(50, activation=\"relu\", input_shape=X_train.shape[1:]))\n",
    "modelReg2.add(keras.layers.Dense(30, activation=\"softmax\"))\n",
    "modelReg2.add(keras.layers.Dense(10, activation=\"relu\"))\n",
    "modelReg2.add(keras.layers.Dense(1))"
   ]
  },
  {
   "cell_type": "code",
   "execution_count": 25,
   "metadata": {
    "pycharm": {
     "name": "#%%\n"
    }
   },
   "outputs": [],
   "source": [
    "modelReg2.compile(loss=\"mean_squared_error\", optimizer='sgd')"
   ]
  },
  {
   "cell_type": "code",
   "execution_count": 26,
   "outputs": [],
   "source": [
    "run_logdir_ = get_run_logdir()\n",
    "tensorboard_cb_ = tf.keras.callbacks.TensorBoard(run_logdir_)"
   ],
   "metadata": {
    "collapsed": false,
    "pycharm": {
     "name": "#%%\n"
    }
   }
  },
  {
   "cell_type": "code",
   "execution_count": 27,
   "outputs": [
    {
     "name": "stdout",
     "output_type": "stream",
     "text": [
      "Epoch 1/30\n",
      "363/363 [==============================] - 2s 5ms/step - loss: 1.4159 - val_loss: 1.1113\n",
      "Epoch 2/30\n",
      "363/363 [==============================] - 1s 2ms/step - loss: 0.8863 - val_loss: 0.6356\n",
      "Epoch 3/30\n",
      "363/363 [==============================] - 1s 2ms/step - loss: 0.6013 - val_loss: 0.5161\n",
      "Epoch 4/30\n",
      "363/363 [==============================] - 1s 2ms/step - loss: 0.4963 - val_loss: 0.4131\n",
      "Epoch 5/30\n",
      "363/363 [==============================] - 1s 2ms/step - loss: 0.4152 - val_loss: 0.3683\n",
      "Epoch 6/30\n",
      "363/363 [==============================] - 1s 2ms/step - loss: 0.3901 - val_loss: 0.3599\n",
      "Epoch 7/30\n",
      "363/363 [==============================] - 1s 2ms/step - loss: 0.3790 - val_loss: 0.3458\n",
      "Epoch 8/30\n",
      "363/363 [==============================] - 1s 2ms/step - loss: 0.3705 - val_loss: 0.3416\n",
      "Epoch 9/30\n",
      "363/363 [==============================] - 1s 2ms/step - loss: 0.3683 - val_loss: 0.3374\n",
      "Epoch 10/30\n",
      "363/363 [==============================] - 1s 2ms/step - loss: 0.3646 - val_loss: 0.3384\n",
      "Epoch 11/30\n",
      "363/363 [==============================] - 1s 2ms/step - loss: 0.3609 - val_loss: 0.3338\n",
      "Epoch 12/30\n",
      "363/363 [==============================] - 1s 2ms/step - loss: 0.3574 - val_loss: 0.3345\n",
      "Epoch 13/30\n",
      "363/363 [==============================] - 1s 2ms/step - loss: 0.3542 - val_loss: 0.3433\n",
      "Epoch 14/30\n",
      "363/363 [==============================] - 1s 2ms/step - loss: 0.3531 - val_loss: 0.3315\n",
      "Epoch 15/30\n",
      "363/363 [==============================] - 1s 2ms/step - loss: 0.3514 - val_loss: 0.3280\n",
      "Epoch 16/30\n",
      "363/363 [==============================] - 1s 3ms/step - loss: 0.3494 - val_loss: 0.3253\n",
      "Epoch 16: early stopping\n"
     ]
    }
   ],
   "source": [
    "historyReg2 = modelReg2.fit(X_train, y_train, epochs=30,\n",
    "    validation_data=(X_valid, y_valid), callbacks=[es, tensorboard_cb_])"
   ],
   "metadata": {
    "collapsed": false,
    "pycharm": {
     "name": "#%%\n"
    }
   }
  },
  {
   "cell_type": "code",
   "execution_count": 28,
   "metadata": {
    "pycharm": {
     "name": "#%%\n"
    }
   },
   "outputs": [],
   "source": [
    "modelReg2.save('reg_housing_2.h5')"
   ]
  },
  {
   "cell_type": "code",
   "execution_count": 29,
   "metadata": {
    "pycharm": {
     "name": "#%%\n"
    }
   },
   "outputs": [],
   "source": [
    "modelReg3 = keras.models.Sequential()\n",
    "\n",
    "modelReg3.add(keras.layers.Dense(30, activation=\"softmax\", input_shape=X_train.shape[1:]))\n",
    "modelReg3.add(keras.layers.Dense(10, activation=\"relu\"))\n",
    "modelReg3.add(keras.layers.Dense(1))"
   ]
  },
  {
   "cell_type": "code",
   "execution_count": 30,
   "metadata": {
    "pycharm": {
     "name": "#%%\n"
    }
   },
   "outputs": [],
   "source": [
    "modelReg3.compile(loss=\"mse\", optimizer='sgd')"
   ]
  },
  {
   "cell_type": "code",
   "execution_count": 31,
   "outputs": [],
   "source": [
    "run_logdir_ = get_run_logdir()\n",
    "tensorboard_cb_ = tf.keras.callbacks.TensorBoard(run_logdir_)"
   ],
   "metadata": {
    "collapsed": false,
    "pycharm": {
     "name": "#%%\n"
    }
   }
  },
  {
   "cell_type": "code",
   "execution_count": 32,
   "metadata": {
    "pycharm": {
     "name": "#%%\n"
    }
   },
   "outputs": [
    {
     "name": "stdout",
     "output_type": "stream",
     "text": [
      "Epoch 1/30\n",
      "363/363 [==============================] - 1s 3ms/step - loss: 1.4437 - val_loss: 1.2327\n",
      "Epoch 2/30\n",
      "363/363 [==============================] - 1s 2ms/step - loss: 1.2048 - val_loss: 1.1106\n",
      "Epoch 3/30\n",
      "363/363 [==============================] - 1s 2ms/step - loss: 1.0362 - val_loss: 0.8796\n",
      "Epoch 4/30\n",
      "363/363 [==============================] - 1s 3ms/step - loss: 0.7780 - val_loss: 0.6360\n",
      "Epoch 5/30\n",
      "363/363 [==============================] - 2s 4ms/step - loss: 0.6270 - val_loss: 0.5622\n",
      "Epoch 6/30\n",
      "363/363 [==============================] - 1s 2ms/step - loss: 0.5839 - val_loss: 0.5280\n",
      "Epoch 7/30\n",
      "363/363 [==============================] - 2s 4ms/step - loss: 0.5518 - val_loss: 0.4980\n",
      "Epoch 8/30\n",
      "363/363 [==============================] - 2s 6ms/step - loss: 0.5203 - val_loss: 0.4655\n",
      "Epoch 9/30\n",
      "363/363 [==============================] - 1s 3ms/step - loss: 0.4844 - val_loss: 0.4327\n",
      "Epoch 10/30\n",
      "363/363 [==============================] - 1s 2ms/step - loss: 0.4478 - val_loss: 0.4020\n",
      "Epoch 11/30\n",
      "363/363 [==============================] - 2s 5ms/step - loss: 0.4207 - val_loss: 0.3804\n",
      "Epoch 12/30\n",
      "363/363 [==============================] - 2s 5ms/step - loss: 0.4062 - val_loss: 0.3706\n",
      "Epoch 13/30\n",
      "363/363 [==============================] - 1s 4ms/step - loss: 0.3990 - val_loss: 0.3672\n",
      "Epoch 14/30\n",
      "363/363 [==============================] - 1s 4ms/step - loss: 0.3928 - val_loss: 0.3606\n",
      "Epoch 15/30\n",
      "363/363 [==============================] - 1s 4ms/step - loss: 0.3889 - val_loss: 0.3575\n",
      "Epoch 16/30\n",
      "363/363 [==============================] - 1s 4ms/step - loss: 0.3853 - val_loss: 0.3561\n",
      "Epoch 17/30\n",
      "363/363 [==============================] - 2s 5ms/step - loss: 0.3820 - val_loss: 0.3545\n",
      "Epoch 18/30\n",
      "363/363 [==============================] - 2s 5ms/step - loss: 0.3791 - val_loss: 0.3540\n",
      "Epoch 19/30\n",
      "363/363 [==============================] - 2s 6ms/step - loss: 0.3782 - val_loss: 0.3537\n",
      "Epoch 20/30\n",
      "363/363 [==============================] - 2s 4ms/step - loss: 0.3758 - val_loss: 0.3480\n",
      "Epoch 21/30\n",
      "363/363 [==============================] - 2s 5ms/step - loss: 0.3741 - val_loss: 0.3480\n",
      "Epoch 21: early stopping\n"
     ]
    }
   ],
   "source": [
    "historyReg3 = modelReg3.fit(X_train, y_train, epochs=30,\n",
    "    validation_data=(X_valid, y_valid), callbacks=[es, tensorboard_cb_])"
   ]
  },
  {
   "cell_type": "code",
   "execution_count": 33,
   "metadata": {
    "pycharm": {
     "name": "#%%\n"
    }
   },
   "outputs": [],
   "source": [
    "modelReg3.save('reg_housing_3.h5')"
   ]
  }
 ],
 "metadata": {
  "kernelspec": {
   "display_name": "Python 3 (ipykernel)",
   "language": "python",
   "name": "python3"
  },
  "language_info": {
   "codemirror_mode": {
    "name": "ipython",
    "version": 3
   },
   "file_extension": ".py",
   "mimetype": "text/x-python",
   "name": "python",
   "nbconvert_exporter": "python",
   "pygments_lexer": "ipython3",
   "version": "3.9.13"
  }
 },
 "nbformat": 4,
 "nbformat_minor": 1
}