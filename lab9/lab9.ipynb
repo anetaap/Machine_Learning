{
 "cells": [
  {
   "cell_type": "markdown",
   "id": "79d7ea95-5f02-46ae-8a0d-7c73f2bb7eb2",
   "metadata": {},
   "source": [
    "# <center> Laboratorium: Regresja </center>"
   ]
  },
  {
   "cell_type": "markdown",
   "id": "75cfd490-743b-44d3-af43-25fb3ad09f49",
   "metadata": {},
   "source": [
    "# 1. Cel/Zakres\n",
    "- Przypomnienie zasady działania i ograniczeń perceptronu\n",
    "- Budowa sieci neuronowej przy pomocy Tensorflow/Keras\n",
    "- Trening sieci i analiza wyników"
   ]
  },
  {
   "cell_type": "code",
   "id": "674e22ee-698b-42d1-a07f-11097a148f15",
   "metadata": {
    "pycharm": {
     "name": "#%%\n"
    }
   },
   "source": [
    "import pickle\n",
    "import pandas as pd\n",
    "import numpy as np\n",
    "import tensorflow as tf\n",
    "\n",
    "from sklearn.datasets import load_iris\n",
    "from sklearn.metrics import accuracy_score\n",
    "from sklearn.model_selection import train_test_split\n",
    "from sklearn.linear_model import Perceptron\n",
    "from tensorflow import keras"
   ],
   "execution_count": null,
   "outputs": []
  },
  {
   "cell_type": "markdown",
   "id": "0331355b-e719-41e9-9f49-7c44332eaed7",
   "metadata": {},
   "source": [
    "# 2. Zadania"
   ]
  },
  {
   "cell_type": "markdown",
   "id": "10e5720e-bc2f-44a2-b747-2fda44c68314",
   "metadata": {},
   "source": [
    "## 2.1 Perceptrony i irysy"
   ]
  },
  {
   "cell_type": "markdown",
   "id": "728f4504-f89b-4cce-9bff-2b02a1a81a3d",
   "metadata": {},
   "source": [
    "#### 2.1.1 Pobierz zbiór danych\n",
    "- Zwróć uwagę, jak długość i szerokość płatka jest powiązana z gatunkiem irysów."
   ]
  },
  {
   "cell_type": "code",
   "execution_count": 2,
   "id": "a9fd725f-5fd3-425f-bfb6-e97c31ffb73a",
   "metadata": {},
   "outputs": [],
   "source": [
    "iris = load_iris(as_frame=True)"
   ]
  },
  {
   "cell_type": "code",
   "execution_count": 3,
   "id": "547cd97b-1398-428a-96c9-003463a7f9b7",
   "metadata": {},
   "outputs": [
    {
     "data": {
      "text/plain": "<AxesSubplot:xlabel='petal length (cm)', ylabel='petal width (cm)'>"
     },
     "execution_count": 3,
     "metadata": {},
     "output_type": "execute_result"
    },
    {
     "data": {
      "text/plain": "<Figure size 432x288 with 2 Axes>",
      "image/png": "[encoded data removed]"
     },
     "metadata": {
      "needs_background": "light"
     },
     "output_type": "display_data"
    }
   ],
   "source": [
    "pd.concat([iris.data, iris.target], axis=1).plot.scatter(\n",
    "    x=\"petal length (cm)\", y=\"petal width (cm)\", c=\"target\", colormap=\"viridis\"\n",
    ")"
   ]
  },
  {
   "cell_type": "markdown",
   "id": "1635932a-83a0-4c05-a321-65721f8feb01",
   "metadata": {},
   "source": [
    "#### 2.1.2 Podziel zbiór danych na zbiór uczący oraz zbiór testowy (8/2)\n",
    "następnie kolejno dla każdego z gatunków (0, 1, 2):\n",
    "- zbuduj perceptron\n",
    "- przeprowadź jego uczenie\n",
    "- oceń jego dokładność dla zbioru ***uczącego*** i dla zbioru ***testowego***."
   ]
  },
  {
   "cell_type": "code",
   "execution_count": 4,
   "id": "332bc9b2-49be-4435-9998-dd69e9fbd852",
   "metadata": {},
   "outputs": [],
   "source": [
    "X = iris.data[[\"petal length (cm)\", \"petal width (cm)\"]]\n",
    "y = iris.target"
   ]
  },
  {
   "cell_type": "code",
   "execution_count": 5,
   "id": "dd1d27c3",
   "metadata": {
    "pycharm": {
     "name": "#%%\n"
    }
   },
   "outputs": [],
   "source": [
    "X_train, X_test, y_train, y_test = train_test_split(X, y, test_size=0.2, random_state=42)"
   ]
  },
  {
   "cell_type": "markdown",
   "id": "a13d3001",
   "metadata": {},
   "source": [
    "_gatunek 0_"
   ]
  },
  {
   "cell_type": "code",
   "execution_count": 6,
   "id": "7aa1f1a2",
   "metadata": {
    "pycharm": {
     "name": "#%%\n"
    }
   },
   "outputs": [
    {
     "data": {
      "text/plain": "Perceptron()"
     },
     "execution_count": 6,
     "metadata": {},
     "output_type": "execute_result"
    }
   ],
   "source": [
    "y_train_0 = (y_train == 0).astype(int)\n",
    "y_test_0 = (y_test == 0).astype(int)\n",
    "\n",
    "per_clf_0 = Perceptron()\n",
    "per_clf_0.fit(X_train, y_train_0)"
   ]
  },
  {
   "cell_type": "code",
   "execution_count": 7,
   "id": "605b1487",
   "metadata": {
    "pycharm": {
     "name": "#%%\n"
    }
   },
   "outputs": [],
   "source": [
    "y_train_0_pred = per_clf_0.predict(X_train)\n",
    "y_test_0_pred = per_clf_0.predict(X_test)\n",
    "\n",
    "a_tr_0 = accuracy_score(y_train_0, y_train_0_pred)\n",
    "a_te_0 = accuracy_score(y_test_0, y_test_0_pred)"
   ]
  },
  {
   "cell_type": "markdown",
   "id": "6bb7c946",
   "metadata": {},
   "source": [
    "_gatunek 1_"
   ]
  },
  {
   "cell_type": "code",
   "execution_count": 8,
   "id": "13a93154",
   "metadata": {
    "pycharm": {
     "name": "#%%\n"
    }
   },
   "outputs": [
    {
     "data": {
      "text/plain": "Perceptron()"
     },
     "execution_count": 8,
     "metadata": {},
     "output_type": "execute_result"
    }
   ],
   "source": [
    "y_train_1 = (y_train == 1).astype(int)\n",
    "y_test_1 = (y_test == 1).astype(int)\n",
    "\n",
    "per_clf_1 = Perceptron()\n",
    "per_clf_1.fit(X_train, y_train_1)"
   ]
  },
  {
   "cell_type": "code",
   "execution_count": 9,
   "id": "f08ac221",
   "metadata": {
    "pycharm": {
     "name": "#%%\n"
    }
   },
   "outputs": [],
   "source": [
    "y_train_1_pred = per_clf_1.predict(X_train)\n",
    "y_test_1_pred = per_clf_1.predict(X_test)\n",
    "\n",
    "a_tr_1 = accuracy_score(y_train_1, y_train_1_pred)\n",
    "a_te_1 = accuracy_score(y_test_1, y_test_1_pred)"
   ]
  },
  {
   "cell_type": "markdown",
   "id": "dc3c7175",
   "metadata": {},
   "source": [
    "_gatunek 2_"
   ]
  },
  {
   "cell_type": "code",
   "execution_count": 10,
   "id": "6c6b4096",
   "metadata": {
    "pycharm": {
     "name": "#%%\n"
    }
   },
   "outputs": [
    {
     "data": {
      "text/plain": "Perceptron()"
     },
     "execution_count": 10,
     "metadata": {},
     "output_type": "execute_result"
    }
   ],
   "source": [
    "y_train_2 = (y_train == 2).astype(int)\n",
    "y_test_2 = (y_test == 2).astype(int)\n",
    "\n",
    "per_clf_2 = Perceptron()\n",
    "per_clf_2.fit(X_train, y_train_2)"
   ]
  },
  {
   "cell_type": "code",
   "execution_count": 11,
   "id": "92890d75",
   "metadata": {
    "pycharm": {
     "name": "#%%\n"
    }
   },
   "outputs": [],
   "source": [
    "y_train_2_pred = per_clf_2.predict(X_train)\n",
    "y_test_2_pred = per_clf_2.predict(X_test)\n",
    "\n",
    "a_tr_2 = accuracy_score(y_train_2, y_train_2_pred)\n",
    "a_te_2 = accuracy_score(y_test_2, y_test_2_pred)"
   ]
  },
  {
   "cell_type": "markdown",
   "id": "952520e9-e535-48cd-9e3c-c17df67d58b2",
   "metadata": {},
   "source": [
    "#### 2.1.3 Dla każdej z klas sprawdź wagę biasu (w_0) oraz poszczególnych wejść (w_1, w_2).\n",
    "- Czy wartości te korespondują z tym co widzisz na obrazku?\n",
    "- Czy, patrząc na ten obrazek, potrafisz wyjaśnić różnice w dokładności dla poszczególnych klas?"
   ]
  },
  {
   "cell_type": "code",
   "execution_count": 12,
   "id": "00907f47-dbbd-45bc-b9e5-5b36907e7771",
   "metadata": {},
   "outputs": [],
   "source": [
    "per_wght = []\n",
    "perceptrons = [per_clf_0, per_clf_1, per_clf_2]\n",
    "\n",
    "for perceptron in perceptrons:\n",
    "    w_0 = perceptron.intercept_[0]\n",
    "    w_1 = perceptron.coef_[0][0]\n",
    "    w_2 = perceptron.coef_[0][1]\n",
    "    per_wght.append((w_0, w_1, w_2))"
   ]
  },
  {
   "cell_type": "code",
   "execution_count": 13,
   "id": "e1a4f1d6",
   "metadata": {
    "pycharm": {
     "name": "#%%\n"
    }
   },
   "outputs": [
    {
     "data": {
      "text/plain": "[(4.0, -1.4999999999999993, -1.6999999999999997),\n (-9.0, 6.800000000000028, -16.099999999999973),\n (-37.0, 1.8999999999999861, 21.499999999999993)]"
     },
     "execution_count": 13,
     "metadata": {},
     "output_type": "execute_result"
    }
   ],
   "source": [
    "per_wght"
   ]
  },
  {
   "cell_type": "markdown",
   "id": "be685efb-8363-429e-8683-391b75aafa75",
   "metadata": {},
   "source": [
    "#### 2.1.4 Dokładność dla każdej z klas zapisz jako krotkę ***(a_tr, a_te)***\n",
    "wszystkie krotki zapisz w pliku:\n",
    "- per_acc.pkl jako listę krotek: [(a_tr_0, a_te_0), (a_tr_1, a_te_1), (a_tr_2, a_te_2)]."
   ]
  },
  {
   "cell_type": "code",
   "execution_count": 14,
   "id": "a6919da9-e571-49e8-9f28-f5b39d08cf30",
   "metadata": {},
   "outputs": [],
   "source": [
    "per_acc = [(a_tr_0, a_te_0), (a_tr_1, a_te_1), (a_tr_2, a_te_2)]"
   ]
  },
  {
   "cell_type": "code",
   "execution_count": 15,
   "id": "3fc41472",
   "metadata": {
    "pycharm": {
     "name": "#%%\n"
    }
   },
   "outputs": [
    {
     "data": {
      "text/plain": "[(1.0, 1.0), (0.6416666666666667, 0.7), (0.85, 0.8666666666666667)]"
     },
     "execution_count": 15,
     "metadata": {},
     "output_type": "execute_result"
    }
   ],
   "source": [
    "per_acc"
   ]
  },
  {
   "cell_type": "code",
   "execution_count": 16,
   "id": "bcdaef9d",
   "metadata": {
    "pycharm": {
     "name": "#%%\n"
    }
   },
   "outputs": [],
   "source": [
    "with open(\"per_acc.pkl\", 'wb') as f:\n",
    "    pickle.dump(per_acc, f)"
   ]
  },
  {
   "cell_type": "markdown",
   "id": "5e258c2d-3d34-4cfd-b641-cdab25330fe2",
   "metadata": {},
   "source": [
    "#### 2.1.5 Podobnie, wagi dla poszczególnych trzech klas\n",
    "zapisz jako listę 3-elementowych krotek (w_0, w_1, w_2) w pliku:\n",
    "- per_wght.pkl."
   ]
  },
  {
   "cell_type": "code",
   "execution_count": 17,
   "id": "aaa1ecef",
   "metadata": {
    "pycharm": {
     "name": "#%%\n"
    }
   },
   "outputs": [],
   "source": [
    "with open(\"per_wght.pkl\", 'wb') as f:\n",
    "    pickle.dump(per_wght, f)"
   ]
  },
  {
   "cell_type": "markdown",
   "id": "977ba888-7662-43c8-8124-9e52fbcd9445",
   "metadata": {},
   "source": [
    "## 2.2 Perceptron i XOR"
   ]
  },
  {
   "cell_type": "markdown",
   "id": "83575852-9ea2-450c-b3c7-c114da3a367f",
   "metadata": {},
   "source": [
    "#### 2.2.1 Przygotuj prosty zbiór danych modelujący operację XOR."
   ]
  },
  {
   "cell_type": "code",
   "execution_count": 18,
   "id": "3a26bbc2-c67a-454f-ae70-140e7af59b32",
   "metadata": {},
   "outputs": [],
   "source": [
    "X = np.array([[0, 0], [0, 1], [1, 0], [1, 1]])\n",
    "y = np.array([0, 1, 1, 0])"
   ]
  },
  {
   "cell_type": "markdown",
   "id": "e0ceace6-5984-4d6f-95e0-f8a53b719365",
   "metadata": {},
   "source": [
    "#### 2.2.2 Utwórz i przeprowadź uczenie perceptronu dla tych danych.\n",
    "- Czy jest zdolny do poprawnego przeprowadzenia predykcji? Jak wyglądają jego wagi?"
   ]
  },
  {
   "cell_type": "code",
   "execution_count": 19,
   "id": "fda28a0e-e526-499f-bf79-974fd088f60a",
   "metadata": {},
   "outputs": [
    {
     "name": "stdout",
     "output_type": "stream",
     "text": [
      "0.5\n",
      "[0.]\n",
      "[[0. 0.]]\n"
     ]
    }
   ],
   "source": [
    "per_clf_xor = Perceptron()\n",
    "per_clf_xor.fit(X, y)\n",
    "y_pred = per_clf_xor.predict(X)\n",
    "print(accuracy_score(y, y_pred))\n",
    "\n",
    "print(per_clf_xor.intercept_)\n",
    "print(per_clf_xor.coef_)"
   ]
  },
  {
   "cell_type": "markdown",
   "id": "707d26a8-8fd4-4749-9a3c-6f8baae1a6e0",
   "metadata": {},
   "source": [
    "## 2.3 XOR, drugie podejście"
   ]
  },
  {
   "cell_type": "markdown",
   "id": "e61dd057-4b70-4adf-a5ff-54c9eb8c4fcb",
   "metadata": {},
   "source": [
    "Problem klasyfikacji XOR teoretycznie da się rozwiązać przy pomocy sieci przedstawionej na\n",
    "poniższym rysunku."
   ]
  },
  {
   "cell_type": "markdown",
   "id": "8e433802-6756-46dd-ba0e-64ed75da3642",
   "metadata": {},
   "source": [
    "![](Picture.png \"\")"
   ]
  },
  {
   "cell_type": "markdown",
   "id": "e6ddd13d-b3aa-4337-a14f-629bf8cabd24",
   "metadata": {},
   "source": [
    "#### 2.3.1 Zamodeluj sieć neuronową (perceptron wielowarstwowy, MLP)\n",
    "- zgodnie z powyższym rysunkiem przy pomocy Tensorflow/Keras.\n",
    "\n",
    "- Sieć powinna posiadać dwie warstwy gęste:\n",
    "\n",
    "     ***warstwę ukrytą***, składającą się z dwóch neuronów, o dwóch wejściach (input_dim) i funkcji\n",
    "aktywacji tanh,\n",
    "\n",
    "     ***warstwę wyjściową***, zawierającą jeden neuron i sigmoidalnej funkcji aktywacji."
   ]
  },
  {
   "cell_type": "code",
   "execution_count": 20,
   "id": "0800c2f5-6f3d-4569-87cd-101645a99a2a",
   "metadata": {},
   "outputs": [],
   "source": [
    "model = keras.models.Sequential()\n",
    "\n",
    "model.add(keras.layers.Dense(2, activation='tanh', use_bias=True , input_dim=2))\n",
    "model.add(keras.layers.Dense(1, activation='sigmoid', use_bias=True))"
   ]
  },
  {
   "cell_type": "code",
   "execution_count": 21,
   "id": "44c9e916-a474-4a4f-9cf8-1f80039112ee",
   "metadata": {},
   "outputs": [
    {
     "name": "stdout",
     "output_type": "stream",
     "text": [
      "Model: \"sequential\"\n",
      "_________________________________________________________________\n",
      " Layer (type)                Output Shape              Param #   \n",
      "=================================================================\n",
      " dense (Dense)               (None, 2)                 6         \n",
      "                                                                 \n",
      " dense_1 (Dense)             (None, 1)                 3         \n",
      "                                                                 \n",
      "=================================================================\n",
      "Total params: 9\n",
      "Trainable params: 9\n",
      "Non-trainable params: 0\n",
      "_________________________________________________________________\n"
     ]
    }
   ],
   "source": [
    "model.summary()"
   ]
  },
  {
   "cell_type": "markdown",
   "id": "a50dfb33",
   "metadata": {},
   "source": [
    "#### 2.3.2 Skompiluj model\n",
    "Powinien on zawierać ***entropie krzyżową*** jako funkcją straty,<br/> oraz ***stochastyczny optymalizator gradientowy*** o domyślnych parametrach."
   ]
  },
  {
   "cell_type": "code",
   "execution_count": 22,
   "id": "118f7476",
   "metadata": {
    "pycharm": {
     "name": "#%%\n"
    }
   },
   "outputs": [],
   "source": [
    "model.compile(loss='binary_crossentropy',\n",
    "              optimizer='sgd')"
   ]
  },
  {
   "cell_type": "markdown",
   "id": "3428e31d-993a-401e-8384-833336059629",
   "metadata": {},
   "source": [
    "#### 2.3.3 Przeprowadź uczenie przez 100 epok\n",
    "- Wyświetl historię wartości funkcji straty.\n",
    "- Jaka byłaby jej pożądana wartość dla rozważanego problemu?"
   ]
  },
  {
   "cell_type": "code",
   "execution_count": 23,
   "id": "e00f6708-a590-49a4-9798-14422efd1007",
   "metadata": {},
   "outputs": [
    {
     "name": "stdout",
     "output_type": "stream",
     "text": [
      "[0.6960448026657104, 0.6959807276725769, 0.6959170699119568, 0.6958535313606262, 0.6957902908325195, 0.6957273483276367, 0.695664644241333, 0.6956021785736084, 0.6955399513244629, 0.695478081703186, 0.6954163312911987, 0.6953549385070801, 0.6952937841415405, 0.6952328085899353, 0.695172131061554, 0.6951117515563965, 0.6950514912605286, 0.6949915289878845, 0.6949317455291748, 0.6948723196983337, 0.6948130130767822, 0.6947540044784546, 0.694695234298706, 0.6946366429328918, 0.6945782899856567, 0.6945201754570007, 0.6944622993469238, 0.6944046020507812, 0.6943471431732178, 0.6942899227142334, 0.6942328214645386, 0.6941760182380676, 0.694119393825531, 0.6940629482269287, 0.6940067410469055, 0.6939507722854614, 0.6938949823379517, 0.693839430809021, 0.6937839984893799, 0.6937288045883179, 0.6936737895011902, 0.6936190128326416, 0.6935644149780273, 0.6935099363327026, 0.6934557557106018, 0.6934016942977905, 0.6933478116989136, 0.6932941675186157, 0.6932407021522522, 0.6931873559951782, 0.6931341886520386, 0.693081259727478, 0.6930285692214966, 0.6929759979248047, 0.6929235458374023, 0.6928713321685791, 0.6928191781044006, 0.6927672624588013, 0.692715585231781, 0.6926640272140503, 0.6926125884056091, 0.6925613284111023, 0.6925103068351746, 0.6924593448638916, 0.6924086809158325, 0.6923580169677734, 0.6923076510429382, 0.6922573447227478, 0.6922072172164917, 0.6921573281288147, 0.6921074986457825, 0.6920578479766846, 0.6920082569122314, 0.6919589042663574, 0.691909670829773, 0.6918606758117676, 0.691811740398407, 0.6917629241943359, 0.6917144060134888, 0.6916658878326416, 0.6916175484657288, 0.6915693283081055, 0.6915212869644165, 0.6914733648300171, 0.6914255619049072, 0.6913778781890869, 0.6913304328918457, 0.6912829875946045, 0.6912357807159424, 0.6911886930465698, 0.691141664981842, 0.6910948157310486, 0.6910480260848999, 0.6910014748573303, 0.6909550428390503, 0.690908670425415, 0.6908624172210693, 0.690816342830658, 0.6907703876495361, 0.6907244920730591]\n"
     ]
    }
   ],
   "source": [
    "history = model.fit(X, y, epochs=100, verbose=False)\n",
    "print(history.history['loss'])"
   ]
  },
  {
   "cell_type": "markdown",
   "id": "89dc9abd-6c90-49e3-a0da-6c751a1ea4a2",
   "metadata": {},
   "source": [
    "#### 2.3.4 Sparwdź, jak sieć radzi sobie z klasyfikacją zbioru X.\n",
    "- Czy wyniki są zadowalające?\n",
    "- Powtórz cały proces (wraz z tworzeniem modelu) kilka razy. Czy wyniki są różne? Dlaczego?"
   ]
  },
  {
   "cell_type": "code",
   "execution_count": 24,
   "id": "86f0926a-e30d-45fc-95fd-b168c97d9146",
   "metadata": {},
   "outputs": [
    {
     "data": {
      "text/plain": "array([[0.49242565],\n       [0.39441568],\n       [0.58686537],\n       [0.46275082]], dtype=float32)"
     },
     "execution_count": 24,
     "metadata": {},
     "output_type": "execute_result"
    }
   ],
   "source": [
    "model.predict(X)"
   ]
  },
  {
   "cell_type": "markdown",
   "id": "b02fc7fc-7331-4760-9ea5-a8c35fd3e0ba",
   "metadata": {},
   "source": [
    "#### 2.3.5 Poeksperymentuj z hiperparametrami modelu:\n",
    "- spróbuj zmienić optymalizator z SGD na Adam,\n",
    "- sprawdź działanie z różnymi wartościami kroku optymalizatora (learning_rate),\n",
    "- wypróbuj inne funkcje straty (np. MAE) oraz funkcje aktywacji poszczególych warstw.\n",
    "<br/><br/>\n",
    "- Czy teraz częściej pojawiają się rozwiązania satysfakcjonujące (czyli dające predykcje bliskie\n",
    "[0, 1, 1, 0])?"
   ]
  },
  {
   "cell_type": "code",
   "execution_count": 25,
   "id": "41636ffa-466d-4314-b27b-ee0535503d82",
   "metadata": {},
   "outputs": [
    {
     "data": {
      "text/plain": "array([[0.03925857],\n       [0.9824331 ],\n       [0.98325515],\n       [0.02994084]], dtype=float32)"
     },
     "execution_count": 25,
     "metadata": {},
     "output_type": "execute_result"
    }
   ],
   "source": [
    "model = keras.models.Sequential()\n",
    "\n",
    "model.add(keras.layers.Dense(2, activation='tanh', use_bias=True , input_dim=2))\n",
    "model.add(keras.layers.Dense(1, activation='sigmoid', use_bias=True))\n",
    "model.compile(loss=\"binary_crossentropy\",\n",
    "    optimizer=tf.keras.optimizers.Adam(learning_rate=0.05))\n",
    "\n",
    "model.fit(X, y, epochs=100, verbose=False)\n",
    "model.predict(X)"
   ]
  },
  {
   "cell_type": "code",
   "execution_count": 26,
   "id": "d633610f",
   "metadata": {
    "pycharm": {
     "name": "#%%\n"
    }
   },
   "outputs": [
    {
     "data": {
      "text/plain": "array([[0.14297765],\n       [0.8436408 ],\n       [0.813978  ],\n       [0.08319139]], dtype=float32)"
     },
     "execution_count": 26,
     "metadata": {},
     "output_type": "execute_result"
    }
   ],
   "source": [
    "model = keras.models.Sequential()\n",
    "\n",
    "model.add(keras.layers.Dense(2, activation='tanh', use_bias=True , input_dim=2))\n",
    "model.add(keras.layers.Dense(1, activation='sigmoid', use_bias=True))\n",
    "model.compile(loss=\"binary_crossentropy\",\n",
    "    optimizer=tf.keras.optimizers.Adam(learning_rate=0.02))\n",
    "\n",
    "model.fit(X, y, epochs=100, verbose=False)\n",
    "model.predict(X)"
   ]
  },
  {
   "cell_type": "code",
   "execution_count": 27,
   "id": "7049c972",
   "metadata": {
    "pycharm": {
     "name": "#%%\n"
    }
   },
   "outputs": [
    {
     "data": {
      "text/plain": "array([[0.5],\n       [0.5],\n       [0.5],\n       [0.5]], dtype=float32)"
     },
     "execution_count": 27,
     "metadata": {},
     "output_type": "execute_result"
    }
   ],
   "source": [
    "model = keras.models.Sequential()\n",
    "\n",
    "model.add(keras.layers.Dense(2, activation='relu', use_bias=True , input_dim=2))\n",
    "model.add(keras.layers.Dense(1, activation='sigmoid', use_bias=True))\n",
    "model.compile(loss=\"mean_absolute_error\",\n",
    "    optimizer=tf.keras.optimizers.Adam(learning_rate=0.05))\n",
    "\n",
    "model.fit(X, y, epochs=100, verbose=False)\n",
    "model.predict(X)"
   ]
  },
  {
   "cell_type": "code",
   "execution_count": 28,
   "id": "a77772bd",
   "metadata": {
    "pycharm": {
     "name": "#%%\n"
    }
   },
   "outputs": [
    {
     "name": "stdout",
     "output_type": "stream",
     "text": [
      "WARNING:tensorflow:5 out of the last 5 calls to <function Model.make_predict_function.<locals>.predict_function at 0x000001DE8288C1F0> triggered tf.function retracing. Tracing is expensive and the excessive number of tracings could be due to (1) creating @tf.function repeatedly in a loop, (2) passing tensors with different shapes, (3) passing Python objects instead of tensors. For (1), please define your @tf.function outside of the loop. For (2), @tf.function has experimental_relax_shapes=True option that relaxes argument shapes that can avoid unnecessary retracing. For (3), please refer to https://www.tensorflow.org/guide/function#controlling_retracing and https://www.tensorflow.org/api_docs/python/tf/function for  more details.\n"
     ]
    },
    {
     "data": {
      "text/plain": "array([[0.01233867],\n       [0.9810636 ],\n       [0.49710226],\n       [0.50673777]], dtype=float32)"
     },
     "execution_count": 28,
     "metadata": {},
     "output_type": "execute_result"
    }
   ],
   "source": [
    "model_ = keras.models.Sequential()\n",
    "\n",
    "model_.add(keras.layers.Dense(2, activation='tanh', use_bias=True , input_dim=2))\n",
    "model_.add(keras.layers.Dense(1, activation='sigmoid', use_bias=True))\n",
    "model_.compile(loss=\"binary_crossentropy\",\n",
    "    optimizer=tf.keras.optimizers.Adam(learning_rate=0.05))\n",
    "\n",
    "model_.fit(X, y, epochs=100, verbose=False)\n",
    "model_.predict(X)"
   ]
  },
  {
   "cell_type": "markdown",
   "id": "998cc09c-c73c-4e4a-a395-6230e8d0fe76",
   "metadata": {
    "pycharm": {
     "name": "#%% md\n"
    }
   },
   "source": [
    "#### 2.3.6 UZYSKAJ ZATYSFAKCJOUJĄCY MODEL („zera” < 0.1, „jedynki” > 0.9)\n",
    "- pobierz jego wagi przy pomocy funkcji ***get_weights()****. Zapisz jej wyjście do pliku mlp_xor_weights.pkl."
   ]
  },
  {
   "cell_type": "code",
   "execution_count": 29,
   "id": "5b71b266",
   "metadata": {
    "pycharm": {
     "name": "#%%\n"
    }
   },
   "outputs": [
    {
     "name": "stdout",
     "output_type": "stream",
     "text": [
      "WARNING:tensorflow:6 out of the last 6 calls to <function Model.make_predict_function.<locals>.predict_function at 0x000001DE83ABD280> triggered tf.function retracing. Tracing is expensive and the excessive number of tracings could be due to (1) creating @tf.function repeatedly in a loop, (2) passing tensors with different shapes, (3) passing Python objects instead of tensors. For (1), please define your @tf.function outside of the loop. For (2), @tf.function has experimental_relax_shapes=True option that relaxes argument shapes that can avoid unnecessary retracing. For (3), please refer to https://www.tensorflow.org/guide/function#controlling_retracing and https://www.tensorflow.org/api_docs/python/tf/function for  more details.\n"
     ]
    }
   ],
   "source": [
    "satisfying = False\n",
    "\n",
    "while not satisfying:\n",
    "    model_ = keras.models.Sequential()\n",
    "\n",
    "    model_.add(keras.layers.Dense(2, activation='tanh', use_bias=True , input_dim=2))\n",
    "    model_.add(keras.layers.Dense(1, activation='sigmoid', use_bias=True))\n",
    "    model_.compile(loss=\"binary_crossentropy\",\n",
    "        optimizer=tf.keras.optimizers.Adam(learning_rate=0.05))\n",
    "\n",
    "    history = model_.fit(X, y, epochs=100, verbose=False)\n",
    "    y_pred = model_.predict(X)\n",
    "    if y_pred[0]<0.1 and y_pred[1]>0.9 and y_pred[2]>0.9 and y_pred[3]<0.1:\n",
    "        satisfying = True"
   ]
  },
  {
   "cell_type": "code",
   "execution_count": 30,
   "id": "39406760",
   "metadata": {
    "pycharm": {
     "name": "#%%\n"
    }
   },
   "outputs": [
    {
     "data": {
      "text/plain": "array([[0.02180028],\n       [0.96671855],\n       [0.96792805],\n       [0.01890549]], dtype=float32)"
     },
     "execution_count": 30,
     "metadata": {},
     "output_type": "execute_result"
    }
   ],
   "source": [
    "y_pred"
   ]
  },
  {
   "cell_type": "code",
   "execution_count": 31,
   "id": "098e351c",
   "metadata": {
    "pycharm": {
     "name": "#%%\n"
    }
   },
   "outputs": [],
   "source": [
    "mlp_xor_weights = model_.get_weights()"
   ]
  },
  {
   "cell_type": "code",
   "execution_count": 32,
   "id": "184f21b4",
   "metadata": {
    "pycharm": {
     "name": "#%%\n"
    }
   },
   "outputs": [],
   "source": [
    "with open(\"mlp_xor_weights.pkl\", 'wb') as f:\n",
    "    pickle.dump(mlp_xor_weights, f)"
   ]
  }
 ],
 "metadata": {
  "kernelspec": {
   "display_name": "Python 3 (ipykernel)",
   "language": "python",
   "name": "python3"
  },
  "language_info": {
   "codemirror_mode": {
    "name": "ipython",
    "version": 3
   },
   "file_extension": ".py",
   "mimetype": "text/x-python",
   "name": "python",
   "nbconvert_exporter": "python",
   "pygments_lexer": "ipython3",
   "version": "3.9.12"
  }
 },
 "nbformat": 4,
 "nbformat_minor": 5
}