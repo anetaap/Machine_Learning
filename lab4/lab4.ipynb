{
 "cells": [
  {
   "cell_type": "code",
   "execution_count": 1,
   "id": "e8cc1abf-d237-462c-ba70-4fde974b1493",
   "metadata": {},
   "outputs": [],
   "source": [
    "import pandas as pd\n",
    "import numpy as np\n",
    "from sklearn import datasets\n",
    "from sklearn.pipeline import Pipeline\n",
    "from sklearn.preprocessing import StandardScaler\n",
    "from sklearn.svm import LinearSVC"
   ]
  },
  {
   "cell_type": "code",
   "execution_count": 2,
   "id": "62da652f-9f5c-4c95-b9cf-0771637e7d4b",
   "metadata": {},
   "outputs": [],
   "source": [
    "from sklearn.model_selection import train_test_split"
   ]
  },
  {
   "cell_type": "code",
   "execution_count": 22,
   "outputs": [],
   "source": [
    "from sklearn.metrics import accuracy_score"
   ],
   "metadata": {
    "collapsed": false,
    "pycharm": {
     "name": "#%%\n"
    }
   }
  },
  {
   "cell_type": "code",
   "execution_count": 33,
   "outputs": [],
   "source": [
    "import pickle"
   ],
   "metadata": {
    "collapsed": false,
    "pycharm": {
     "name": "#%%\n"
    }
   }
  },
  {
   "cell_type": "markdown",
   "source": [
    "# ***Cancer dataset***"
   ],
   "metadata": {
    "collapsed": false
   }
  },
  {
   "cell_type": "markdown",
   "source": [
    "_przygotowanie danych_"
   ],
   "metadata": {
    "collapsed": false
   }
  },
  {
   "cell_type": "code",
   "execution_count": 3,
   "outputs": [],
   "source": [
    "data_breast_cancer = datasets.load_breast_cancer(as_frame=True)"
   ],
   "metadata": {
    "collapsed": false,
    "pycharm": {
     "name": "#%%\n"
    }
   }
  },
  {
   "cell_type": "code",
   "execution_count": 5,
   "outputs": [],
   "source": [
    "X_cancer = data_breast_cancer.data\n",
    "y_cancer = data_breast_cancer.target"
   ],
   "metadata": {
    "collapsed": false,
    "pycharm": {
     "name": "#%%\n"
    }
   }
  },
  {
   "cell_type": "code",
   "execution_count": 7,
   "outputs": [
    {
     "name": "stdout",
     "output_type": "stream",
     "text": [
      "17070 569\n"
     ]
    }
   ],
   "source": [
    "print(X_cancer.size, y_cancer.size)"
   ],
   "metadata": {
    "collapsed": false,
    "pycharm": {
     "name": "#%%\n"
    }
   }
  },
  {
   "cell_type": "code",
   "execution_count": 8,
   "outputs": [],
   "source": [
    "X_cancer_train, X_cancer_test, y_cancer_train, y_cancer_test = train_test_split(X_cancer, y_cancer, test_size=0.2, random_state=42)"
   ],
   "metadata": {
    "collapsed": false,
    "pycharm": {
     "name": "#%%\n"
    }
   }
  },
  {
   "cell_type": "code",
   "execution_count": 10,
   "outputs": [
    {
     "name": "stdout",
     "output_type": "stream",
     "text": [
      "13650 3420\n"
     ]
    }
   ],
   "source": [
    "print(X_cancer_train.size,X_cancer_test.size )"
   ],
   "metadata": {
    "collapsed": false,
    "pycharm": {
     "name": "#%%\n"
    }
   }
  },
  {
   "cell_type": "markdown",
   "source": [
    "_Klasyfikacja SVM_"
   ],
   "metadata": {
    "collapsed": false
   }
  },
  {
   "cell_type": "code",
   "execution_count": 12,
   "outputs": [],
   "source": [
    "X_cancer_train_area_smooth = X_cancer_train[[\"mean area\", \"mean smoothness\"]]\n",
    "X_cancer_test_area_smooth = X_cancer_test[[\"mean area\", \"mean smoothness\"]]"
   ],
   "metadata": {
    "collapsed": false,
    "pycharm": {
     "name": "#%%\n"
    }
   }
  },
  {
   "cell_type": "code",
   "execution_count": 13,
   "outputs": [],
   "source": [
    "svm_clf = Pipeline([(\"linear_svc\", LinearSVC(C=1,  loss=\"hinge\", random_state=42)),])"
   ],
   "metadata": {
    "collapsed": false,
    "pycharm": {
     "name": "#%%\n"
    }
   }
  },
  {
   "cell_type": "code",
   "execution_count": 17,
   "outputs": [],
   "source": [
    "svm_clf_scaler = Pipeline([(\"scaler\", StandardScaler()),\n",
    "                            (\"linear_svc\", LinearSVC(C=1, loss=\"hinge\", random_state=42))\n",
    "                            ])"
   ],
   "metadata": {
    "collapsed": false,
    "pycharm": {
     "name": "#%%\n"
    }
   }
  },
  {
   "cell_type": "code",
   "execution_count": 24,
   "outputs": [
    {
     "name": "stderr",
     "output_type": "stream",
     "text": [
      "c:\\users\\aneta_p\\documents\\studia\\semestr_4\\machine_learning\\venv\\lib\\site-packages\\sklearn\\svm\\_base.py:1206: ConvergenceWarning: Liblinear failed to converge, increase the number of iterations.\n",
      "  warnings.warn(\n"
     ]
    },
    {
     "data": {
      "text/plain": "Pipeline(steps=[('scaler', StandardScaler()),\n                ('linear_svc', LinearSVC(C=1, loss='hinge', random_state=42))])"
     },
     "execution_count": 24,
     "metadata": {},
     "output_type": "execute_result"
    }
   ],
   "source": [
    "svm_clf.fit(X_cancer_train_area_smooth, y_cancer_train)\n",
    "svm_clf_scaler.fit(X_cancer_train_area_smooth, y_cancer_train)"
   ],
   "metadata": {
    "collapsed": false,
    "pycharm": {
     "name": "#%%\n"
    }
   }
  },
  {
   "cell_type": "code",
   "execution_count": 25,
   "outputs": [],
   "source": [
    "y_cancer_train_svm_pred = svm_clf.predict(X_cancer_train_area_smooth)\n",
    "y_cancer_train_svm_scal_pred = svm_clf_scaler.predict(X_cancer_train_area_smooth)"
   ],
   "metadata": {
    "collapsed": false,
    "pycharm": {
     "name": "#%%\n"
    }
   }
  },
  {
   "cell_type": "code",
   "execution_count": 26,
   "outputs": [],
   "source": [
    "y_cancer_test_svm_pred = svm_clf.predict(X_cancer_test_area_smooth)\n",
    "y_cancer_test_svm_scal_pred = svm_clf_scaler.predict(X_cancer_test_area_smooth)"
   ],
   "metadata": {
    "collapsed": false,
    "pycharm": {
     "name": "#%%\n"
    }
   }
  },
  {
   "cell_type": "code",
   "execution_count": 29,
   "outputs": [],
   "source": [
    "acc_svm_clf_train = accuracy_score(y_cancer_train, y_cancer_train_svm_pred)\n",
    "acc_svm_clf_scaler_train = accuracy_score(y_cancer_train, y_cancer_train_svm_scal_pred)"
   ],
   "metadata": {
    "collapsed": false,
    "pycharm": {
     "name": "#%%\n"
    }
   }
  },
  {
   "cell_type": "code",
   "execution_count": 30,
   "outputs": [],
   "source": [
    "acc_svm_clf_test = accuracy_score(y_cancer_test, y_cancer_test_svm_pred)\n",
    "acc_svm_clf_scaler_test = accuracy_score(y_cancer_test, y_cancer_test_svm_scal_pred)"
   ],
   "metadata": {
    "collapsed": false,
    "pycharm": {
     "name": "#%%\n"
    }
   }
  },
  {
   "cell_type": "code",
   "execution_count": 31,
   "outputs": [],
   "source": [
    "bc_acc = [acc_svm_clf_train, acc_svm_clf_test, acc_svm_clf_scaler_train, acc_svm_clf_scaler_test]"
   ],
   "metadata": {
    "collapsed": false,
    "pycharm": {
     "name": "#%%\n"
    }
   }
  },
  {
   "cell_type": "code",
   "execution_count": 32,
   "outputs": [
    {
     "name": "stdout",
     "output_type": "stream",
     "text": [
      "[0.6285714285714286, 0.6228070175438597, 0.8923076923076924, 0.9298245614035088]\n"
     ]
    }
   ],
   "source": [
    "print(bc_acc)"
   ],
   "metadata": {
    "collapsed": false,
    "pycharm": {
     "name": "#%%\n"
    }
   }
  },
  {
   "cell_type": "code",
   "execution_count": 34,
   "outputs": [],
   "source": [
    "with open('bc_acc.pkl', 'wb') as f:\n",
    "    pickle.dump(bc_acc, f)"
   ],
   "metadata": {
    "collapsed": false,
    "pycharm": {
     "name": "#%%\n"
    }
   }
  },
  {
   "cell_type": "markdown",
   "id": "7c2107e5-6952-4b3b-bd47-c37b212400be",
   "metadata": {},
   "source": [
    "# ***Iris dataset***"
   ]
  },
  {
   "cell_type": "code",
   "execution_count": 8,
   "outputs": [],
   "source": [
    "data_iris = datasets.load_iris(as_frame=True)"
   ],
   "metadata": {
    "collapsed": false,
    "pycharm": {
     "name": "#%%\n"
    }
   }
  },
  {
   "cell_type": "code",
   "execution_count": 32,
   "id": "13d1b06c-fef2-4f9b-906f-23988e0d65af",
   "metadata": {},
   "outputs": [],
   "source": [
    "X_iris = data_iris[\"data\"][:,(2,3)]\n",
    "y_iris = (data_iris[\"target\"]==2).astype(np.int8)"
   ]
  },
  {
   "cell_type": "code",
   "execution_count": 33,
   "id": "17d0f372-7b7c-4d9e-bd63-cc4eac513a33",
   "metadata": {},
   "outputs": [],
   "source": [
    "X_iris_train, X_iris_test, y_iris_train, y_iris_test = train_test_split(X_iris, y_iris, test_size=0.2, random_state=42)"
   ]
  },
  {
   "cell_type": "code",
   "execution_count": 26,
   "id": "de65b7e3-a4ec-432b-be73-68b02b11bb8d",
   "metadata": {
    "jupyter": {
     "source_hidden": true
    },
    "tags": []
   },
   "outputs": [],
   "source": [
    "svm_clf = Pipeline([\n",
    "        (\"scaler\", StandardScaler()),\n",
    "        (\"linear_svc\", LinearSVC(C=1,\n",
    "                                 loss=\"hinge\",\n",
    "                                 random_state=42)),])"
   ]
  },
  {
   "cell_type": "code",
   "execution_count": 34,
   "id": "757e90d3-9bc1-4333-9416-3cb69e7eeef1",
   "metadata": {},
   "outputs": [
    {
     "data": {
      "text/plain": [
       "Pipeline(steps=[('scaler', StandardScaler()),\n",
       "                ('linear_svc', LinearSVC(C=1, loss='hinge', random_state=42))])"
      ]
     },
     "execution_count": 34,
     "metadata": {},
     "output_type": "execute_result"
    }
   ],
   "source": [
    "svm_clf.fit(X_iris_train, y_iris_train)"
   ]
  },
  {
   "cell_type": "code",
   "execution_count": 35,
   "id": "af039121-518b-4cbc-a1d3-7b12586abf97",
   "metadata": {},
   "outputs": [],
   "source": [
    "predict = svm_clf.predict(X_iris_train)"
   ]
  },
  {
   "cell_type": "code",
   "execution_count": 37,
   "id": "cc7a58c9-120d-4314-82a6-20852b2303bd",
   "metadata": {},
   "outputs": [
    {
     "name": "stdout",
     "output_type": "stream",
     "text": [
      "0.9416666666666667\n"
     ]
    }
   ],
   "source": [
    "\n",
    "print(accuracy_score(y_iris_train, predict))"
   ]
  },
  {
   "cell_type": "code",
   "execution_count": 39,
   "id": "27476ed3-0077-4d7f-b6da-8679bbd71171",
   "metadata": {},
   "outputs": [],
   "source": [
    "svm_clf = Pipeline([\n",
    "        (\"linear_svc\", LinearSVC(C=1,\n",
    "                                 loss=\"hinge\",\n",
    "                                 random_state=42)),])"
   ]
  },
  {
   "cell_type": "code",
   "execution_count": 40,
   "id": "f992b381-48ca-47dd-b679-d85d523dbe5a",
   "metadata": {},
   "outputs": [
    {
     "name": "stderr",
     "output_type": "stream",
     "text": [
      "/opt/homebrew/Caskroom/miniforge/base/envs/ml/lib/python3.9/site-packages/sklearn/svm/_base.py:1206: ConvergenceWarning: Liblinear failed to converge, increase the number of iterations.\n",
      "  warnings.warn(\n"
     ]
    },
    {
     "data": {
      "text/plain": [
       "Pipeline(steps=[('linear_svc', LinearSVC(C=1, loss='hinge', random_state=42))])"
      ]
     },
     "execution_count": 40,
     "metadata": {},
     "output_type": "execute_result"
    }
   ],
   "source": [
    "svm_clf.fit(X_iris_train, y_iris_train)"
   ]
  },
  {
   "cell_type": "code",
   "execution_count": 41,
   "id": "c56d15af-9c94-4fca-80d4-d084af57fdd6",
   "metadata": {},
   "outputs": [],
   "source": [
    "predict_ = svm_clf.predict(X_iris_train)"
   ]
  },
  {
   "cell_type": "code",
   "execution_count": 42,
   "id": "ca008e88-868b-43c0-a23d-3518da5afcfc",
   "metadata": {},
   "outputs": [
    {
     "name": "stdout",
     "output_type": "stream",
     "text": [
      "0.9416666666666667\n"
     ]
    }
   ],
   "source": [
    "print(accuracy_score(y_iris_train, predict_))"
   ]
  },
  {
   "cell_type": "code",
   "execution_count": 43,
   "id": "a7434fbb-3fa9-4a1d-9923-8b56dd78f523",
   "metadata": {},
   "outputs": [
    {
     "name": "stderr",
     "output_type": "stream",
     "text": [
      "/opt/homebrew/Caskroom/miniforge/base/envs/ml/lib/python3.9/site-packages/sklearn/svm/_base.py:1206: ConvergenceWarning: Liblinear failed to converge, increase the number of iterations.\n",
      "  warnings.warn(\n"
     ]
    },
    {
     "data": {
      "text/plain": [
       "Pipeline(steps=[('linear_svc', LinearSVC(C=1, loss='hinge', random_state=42))])"
      ]
     },
     "execution_count": 43,
     "metadata": {},
     "output_type": "execute_result"
    }
   ],
   "source": [
    "svm_clf.fit(X_iris_test, y_iris_test)"
   ]
  },
  {
   "cell_type": "code",
   "execution_count": 46,
   "id": "472c7f01-8d0f-441c-a823-f286a13d3024",
   "metadata": {},
   "outputs": [
    {
     "name": "stdout",
     "output_type": "stream",
     "text": [
      "0.9666666666666667\n"
     ]
    }
   ],
   "source": [
    "predict_ = svm_clf.predict(X_iris_test)\n",
    "print(accuracy_score(y_iris_test, predict_))"
   ]
  },
  {
   "cell_type": "code",
   "execution_count": null,
   "id": "f0057223-4118-42be-9847-f14ef0f1d0e7",
   "metadata": {},
   "outputs": [],
   "source": []
  }
 ],
 "metadata": {
  "kernelspec": {
   "display_name": "Python 3 (ipykernel)",
   "language": "python",
   "name": "python3"
  },
  "language_info": {
   "codemirror_mode": {
    "name": "ipython",
    "version": 3
   },
   "file_extension": ".py",
   "mimetype": "text/x-python",
   "name": "python",
   "nbconvert_exporter": "python",
   "pygments_lexer": "ipython3",
   "version": "3.9.10"
  }
 },
 "nbformat": 4,
 "nbformat_minor": 5
}