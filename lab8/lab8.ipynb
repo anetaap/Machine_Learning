{
 "cells": [
  {
   "cell_type": "markdown",
   "id": "9b687849-823a-4e81-aedb-b8c6e5674c99",
   "metadata": {},
   "source": [
    "# 1. Cel/Zakres\n",
    "- Redukcja liczby wymiarów\n",
    "- Ocena efektów redukcji wymiarów"
   ]
  },
  {
   "cell_type": "markdown",
   "id": "53ca0d22-2e13-4edf-8d4e-f157fb314b6a",
   "metadata": {
    "tags": []
   },
   "source": [
    "# 2. Przygotowanie danych"
   ]
  },
  {
   "cell_type": "code",
   "execution_count": 1,
   "id": "c9432317-f17f-404c-b894-66e3de118853",
   "metadata": {},
   "outputs": [],
   "source": [
    "import pickle\n",
    "import numpy as np\n",
    "from sklearn import datasets\n",
    "from sklearn.datasets import load_iris\n",
    "from sklearn.decomposition import PCA\n",
    "from sklearn.preprocessing import StandardScaler"
   ]
  },
  {
   "cell_type": "code",
   "execution_count": 2,
   "id": "475106e8-e9bd-4ab8-893d-fa0462cc7349",
   "metadata": {},
   "outputs": [],
   "source": [
    "data_breast_cancer = datasets.load_breast_cancer()\n",
    "data_iris = load_iris()"
   ]
  },
  {
   "cell_type": "markdown",
   "id": "c589cedb-5669-469a-a799-bd98c9c59c33",
   "metadata": {},
   "source": [
    "# 3. Ćwiczenie"
   ]
  },
  {
   "cell_type": "markdown",
   "id": "7cd53307-d870-49ca-b00e-ea8ee954fa98",
   "metadata": {
    "tags": []
   },
   "source": [
    "#### 1. Przeprowadź analizę PCA.\n",
    "Zredukuj liczbę wymiarów dla każdego z w/w zbiorów. Nowa przestrzeń ma pokrywać przynajmniej 90% różnorodności (zmienności) danych i ma mieć jak najmniej wymiarów."
   ]
  },
  {
   "cell_type": "code",
   "execution_count": 3,
   "id": "d613c5d6-0772-44af-847c-a321e08945eb",
   "metadata": {},
   "outputs": [],
   "source": [
    "pca_dbc = PCA(n_components=0.9)\n",
    "pca_di = PCA(n_components=0.9)\n",
    "\n",
    "dbc_t = pca_dbc.fit_transform(data_breast_cancer.data)\n",
    "di_t = pca_di.fit_transform(data_iris.data)"
   ]
  },
  {
   "cell_type": "code",
   "execution_count": 4,
   "outputs": [
    {
     "name": "stdout",
     "output_type": "stream",
     "text": [
      "[0.98204467]\n",
      "[0.92461872]\n"
     ]
    }
   ],
   "source": [
    "print(pca_dbc.explained_variance_ratio_)\n",
    "print(pca_di.explained_variance_ratio_)"
   ],
   "metadata": {
    "collapsed": false,
    "pycharm": {
     "name": "#%%\n"
    }
   }
  },
  {
   "cell_type": "markdown",
   "id": "9f0f702c-1845-484b-9364-f806483bf2a7",
   "metadata": {},
   "source": [
    "#### 2. Porównaj wyniki.\n",
    "- Ćwiczenia przeprowadź najpierw na oryginalnych danych, a później na danych przeskalowanych.\n",
    "\n",
    "- W podanych zbiorach są istotnie różne zakresy dla poszczególnych cech. \n",
    "- Aby je przeskalować aby były porównywalne użyj **StandardScaler()**. \n",
    "- Klasa **PCA()** centruje dane automatycznie, ale ich nie skaluje!"
   ]
  },
  {
   "cell_type": "code",
   "execution_count": 5,
   "id": "ec0df290-12b3-468f-82c2-82f8504504aa",
   "metadata": {},
   "outputs": [],
   "source": [
    "scaler = StandardScaler()\n",
    "\n",
    "dbc_scaled = scaler.fit_transform(data_breast_cancer.data)\n",
    "di_scaled =scaler.fit_transform(data_iris.data)\n",
    "\n",
    "pca_dbc_scaled = PCA(n_components=0.9)\n",
    "pca_di_scaled = PCA(n_components=0.9)\n",
    "\n",
    "dbc_scaled_t = pca_dbc_scaled.fit_transform(dbc_scaled.data)\n",
    "di_scaled_t = pca_di_scaled.fit_transform(di_scaled.data)"
   ]
  },
  {
   "cell_type": "code",
   "execution_count": 6,
   "outputs": [
    {
     "name": "stdout",
     "output_type": "stream",
     "text": [
      "[0.4427202560752634, 0.18971182044033078, 0.09393163257431376, 0.0660213491547015, 0.05495768492346275, 0.04024522039883348, 0.022507337129825108]\n",
      "[0.72962445 0.22850762]\n"
     ]
    }
   ],
   "source": [
    "print(list(pca_dbc_scaled.explained_variance_ratio_))\n",
    "print(pca_di_scaled.explained_variance_ratio_)"
   ],
   "metadata": {
    "collapsed": false,
    "pycharm": {
     "name": "#%%\n"
    }
   }
  },
  {
   "cell_type": "markdown",
   "id": "6953d4c4-3c5c-4b5f-8ee5-a95c119c85c7",
   "metadata": {},
   "source": [
    "#### 3. Utwórz listę z współczynnikami zmienności nowych wymiarów <br/>(dla danych przeskalowanych).\n",
    "W przypadku data_breast_cancer listę zapisz w pliku Pickle o nazwie:\n",
    "- pca_bc.pkl\n",
    "\n",
    "W przypadku data_iris listę zapisz w pliku Pickle o nazwie:\n",
    "- pca_ir.pkl"
   ]
  },
  {
   "cell_type": "code",
   "execution_count": 7,
   "id": "f696edbd-55bf-498b-aa15-a2970ca2ba3e",
   "metadata": {},
   "outputs": [],
   "source": [
    "pca_bc = list(pca_dbc_scaled.explained_variance_ratio_)\n",
    "pca_ir = list(pca_di_scaled.explained_variance_ratio_)\n",
    "\n",
    "with open(\"pca_bc.pkl\", 'wb') as f:\n",
    "    pickle.dump(pca_bc,f)\n",
    "\n",
    "with open(\"pca_ir.pkl\", 'wb') as f:\n",
    "    pickle.dump(pca_ir, f)"
   ]
  },
  {
   "cell_type": "markdown",
   "id": "04affa62-4e44-49f7-852b-8a1348176dc8",
   "metadata": {},
   "source": [
    "#### 4. Utwórz listę. \n",
    "Indeksów cech (oryginalnych wymiarów), które mają największy udział w\n",
    "<br/>nowych cechach (wymiarach), po redukcji (dla danych przeskalowanych).\n",
    "\n",
    "###### Podpowiedź: zob. atrybut components_ klasy PCA.\n",
    "\n",
    "W przypadku data_breast_cancer listę zapisz w pliku Pickle o nazwie:\n",
    "- idx_bc.pkl\n",
    "\n",
    "W przypadku data_iris listę zapisz w pliku Pickle o nazwie:\n",
    "- idx_ir.pkl"
   ]
  },
  {
   "cell_type": "code",
   "execution_count": 8,
   "id": "6ef31ba4-eef2-4717-a14f-a8d112f80ac7",
   "metadata": {},
   "outputs": [],
   "source": [
    "# scalled_pca_dbc.components_"
   ]
  },
  {
   "cell_type": "code",
   "execution_count": 9,
   "id": "aaea5918-b752-438f-8c5c-36b581559c90",
   "metadata": {},
   "outputs": [
    {
     "name": "stdout",
     "output_type": "stream",
     "text": [
      "[7, 9, 11, 21, 4, 28, 29]\n"
     ]
    }
   ],
   "source": [
    "idx_bc = []\n",
    "\n",
    "for row in pca_dbc_scaled.components_:\n",
    "    idx = np.argmax(abs(row))\n",
    "    idx_bc.append(idx)\n",
    "\n",
    "print(idx_bc)"
   ]
  },
  {
   "cell_type": "code",
   "execution_count": 10,
   "id": "fc0353fc-d1f2-4ff3-93c6-4dfd088c2d5e",
   "metadata": {},
   "outputs": [
    {
     "name": "stdout",
     "output_type": "stream",
     "text": [
      "[2, 1]\n"
     ]
    }
   ],
   "source": [
    "idx_ir = []\n",
    "\n",
    "for row in pca_di_scaled.components_:\n",
    "    idx = np.argmax(abs(row))\n",
    "    idx_ir.append(idx)\n",
    "\n",
    "print(idx_ir)"
   ]
  },
  {
   "cell_type": "code",
   "execution_count": 11,
   "id": "8bddf13c-8884-4a82-8147-fa689e77c4c6",
   "metadata": {},
   "outputs": [],
   "source": [
    "with open(\"idx_bc.pkl\", 'wb') as f:\n",
    "    pickle.dump(idx_bc, f)\n",
    "\n",
    "with open(\"idx_ir.pkl\", 'wb') as f:\n",
    "    pickle.dump(idx_ir, f)"
   ]
  },
  {
   "cell_type": "markdown",
   "id": "499779ad-1423-42cf-b60e-8a9a7ef17593",
   "metadata": {},
   "source": [
    "# 4 Prześlij raport\n",
    "Prześlij plik o nazwie **lab8.py** realizujący ww. ćwiczenia.\n",
    "<br/>Sprawdzane będzie, czy skrypt Pythona tworzy wszystkie wymagane pliki,<br/> oraz czy ich zawartość\n",
    "jest poprawna.\n"
   ]
  }
 ],
 "metadata": {
  "kernelspec": {
   "display_name": "Python 3 (ipykernel)",
   "language": "python",
   "name": "python3"
  },
  "language_info": {
   "codemirror_mode": {
    "name": "ipython",
    "version": 3
   },
   "file_extension": ".py",
   "mimetype": "text/x-python",
   "name": "python",
   "nbconvert_exporter": "python",
   "pygments_lexer": "ipython3",
   "version": "3.9.7"
  }
 },
 "nbformat": 4,
 "nbformat_minor": 5
}