{
 "cells": [
  {
   "cell_type": "code",
   "execution_count": 30,
   "outputs": [
    {
     "data": {
      "text/plain": "<AxesSubplot:xlabel='x', ylabel='y'>"
     },
     "execution_count": 30,
     "metadata": {},
     "output_type": "execute_result"
    },
    {
     "data": {
      "text/plain": "<Figure size 432x288 with 1 Axes>",
      "image/png": "[encoded data removed]"
     },
     "metadata": {
      "needs_background": "light"
     },
     "output_type": "display_data"
    }
   ],
   "source": [
    "import numpy as np\n",
    "import pandas as pd\n",
    "size = 300\n",
    "X = np.random.rand(size)*5-2.5\n",
    "w4, w3, w2, w1, w0 = 1, 2, 1, -4, 2\n",
    "y = w4*(X**4) + w3*(X**3) + w2*(X**2) + w1*X + w0 + np.random.randn(size)*8-4 \n",
    "df = pd.DataFrame({'x': X, 'y': y}) \n",
    "df.to_csv('dane_do_regresji.csv',index=None)\n",
    "df.plot.scatter(x='x',y='y')"
   ],
   "metadata": {
    "collapsed": false,
    "pycharm": {
     "name": "#%%\n"
    }
   }
  },
  {
   "cell_type": "code",
   "execution_count": 31,
   "id": "60566217-8850-461c-976a-5ed275f5f1cf",
   "metadata": {},
   "outputs": [],
   "source": [
    "from sklearn.model_selection import train_test_split\n",
    "X_train, X_test, y_train, y_test = train_test_split(X, y, test_size=0.2, random_state=42)"
   ]
  },
  {
   "cell_type": "code",
   "execution_count": 32,
   "id": "354b0245-fb3b-4ef2-bc36-05afcbb07003",
   "metadata": {},
   "outputs": [
    {
     "name": "stdout",
     "output_type": "stream",
     "text": [
      "(240,) (240,)\n",
      "(60,) (60,)\n"
     ]
    }
   ],
   "source": [
    "print(X_train.shape, y_train.shape)\n",
    "print(X_test.shape, y_test.shape)"
   ]
  },
  {
   "cell_type": "markdown",
   "source": [
    "# ***TRAIN SET***"
   ],
   "metadata": {
    "collapsed": false
   }
  },
  {
   "cell_type": "markdown",
   "source": [
    "***Linear Regression Train set***\n"
   ],
   "metadata": {
    "collapsed": false
   }
  },
  {
   "cell_type": "code",
   "execution_count": 33,
   "id": "9d4246e9-1126-4afc-bed0-860c5dc2720e",
   "metadata": {},
   "outputs": [
    {
     "name": "stdout",
     "output_type": "stream",
     "text": [
      "[6.43369308 3.524323  ]\n"
     ]
    }
   ],
   "source": [
    "X_b = np.c_[np.ones(X_train.shape), X_train]\n",
    "theta_best = np.linalg.inv(X_b.T.dot(X_b)).dot(X_b.T).dot(y_train)\n",
    "print(theta_best)"
   ]
  },
  {
   "cell_type": "code",
   "execution_count": 34,
   "outputs": [
    {
     "name": "stdout",
     "output_type": "stream",
     "text": [
      "[ 6.43369308 13.48233909]\n"
     ]
    }
   ],
   "source": [
    "X_new = np.array([[0], [2]])\n",
    "X_new_b = np.c_[np.ones((2, 1)), X_new]\n",
    "print(y_predict := X_new_b.dot(theta_best))"
   ],
   "metadata": {
    "collapsed": false,
    "pycharm": {
     "name": "#%%\n"
    }
   }
  },
  {
   "cell_type": "code",
   "execution_count": 35,
   "outputs": [
    {
     "name": "stdout",
     "output_type": "stream",
     "text": [
      "6.43369307864597 [3.524323] \n",
      " [ 6.43369308 13.48233909]\n"
     ]
    }
   ],
   "source": [
    "from sklearn.linear_model import LinearRegression\n",
    "lin_reg = LinearRegression()\n",
    "X_train = X_train.reshape(-1, 1)\n",
    "lin_reg.fit(X_train, y_train)\n",
    "print(lin_reg.intercept_, lin_reg.coef_, \"\\n\", lin_reg.predict(X_new))\n",
    "lin_reg_pred = lin_reg.predict(X_train)"
   ],
   "metadata": {
    "collapsed": false,
    "pycharm": {
     "name": "#%%\n"
    }
   }
  },
  {
   "cell_type": "markdown",
   "id": "76516fb7-64c0-4074-bf1d-9d0dfd315f97",
   "metadata": {},
   "source": [
    "***KNN Train set k=3***"
   ]
  },
  {
   "cell_type": "code",
   "execution_count": 36,
   "id": "473a75b1-819a-4539-9393-ddbc266726c6",
   "metadata": {},
   "outputs": [
    {
     "name": "stdout",
     "output_type": "stream",
     "text": [
      "[-3.65671472 23.34767591]\n"
     ]
    }
   ],
   "source": [
    "import sklearn.neighbors\n",
    "knn_3_reg = sklearn.neighbors.KNeighborsRegressor(n_neighbors=3)\n",
    "knn_3_reg.fit(X_train.reshape(-1,1), y_train)\n",
    "print(knn_3_reg.predict(X_new))\n",
    "knn_3_reg_pred = knn_3_reg.predict(X_train)"
   ]
  },
  {
   "cell_type": "markdown",
   "id": "0da31126-30d1-4bbd-b8e1-7dfb298caebc",
   "metadata": {},
   "source": [
    "***k=5***"
   ]
  },
  {
   "cell_type": "code",
   "execution_count": 37,
   "outputs": [
    {
     "name": "stdout",
     "output_type": "stream",
     "text": [
      "[-5.76766295 25.18606351]\n"
     ]
    }
   ],
   "source": [
    "knn_5_reg = sklearn.neighbors.KNeighborsRegressor(n_neighbors=5)\n",
    "knn_5_reg.fit(X_train.reshape(-1,1), y_train)\n",
    "print(knn_5_reg.predict(X_new))\n",
    "knn_5_reg_pred = knn_5_reg.predict(X_train)"
   ],
   "metadata": {
    "collapsed": false,
    "pycharm": {
     "name": "#%%\n"
    }
   }
  },
  {
   "cell_type": "markdown",
   "source": [
    "***Polynomial Regression Train set***"
   ],
   "metadata": {
    "collapsed": false
   }
  },
  {
   "cell_type": "code",
   "execution_count": 38,
   "outputs": [
    {
     "name": "stdout",
     "output_type": "stream",
     "text": [
      "[-0.07164697] [-0.07164697  0.00513329]\n",
      "-5.595077069348042 [3.11059097 6.20859566]\n",
      "[-5.59507707 25.46048752]\n",
      "25.460487522621328\n"
     ]
    }
   ],
   "source": [
    "from sklearn.preprocessing import PolynomialFeatures\n",
    "poly_features_2 = PolynomialFeatures(degree=2, include_bias=False)\n",
    "X_poly = poly_features_2.fit_transform(X_train)\n",
    "print(X_train[0], X_poly[0])\n",
    "poly_2_reg = LinearRegression()\n",
    "poly_2_reg.fit(X_poly, y_train)\n",
    "print(poly_2_reg.intercept_, poly_2_reg.coef_)\n",
    "print(poly_2_reg.predict(poly_features_2.fit_transform([[0],[2]])))\n",
    "print(poly_2_reg.coef_[1] * 2**2 + poly_2_reg.coef_[0] * 2 + poly_2_reg.intercept_)\n",
    "poly_2_reg_pred = poly_2_reg.predict(X_poly)"
   ],
   "metadata": {
    "collapsed": false,
    "pycharm": {
     "name": "#%%\n"
    }
   }
  },
  {
   "cell_type": "code",
   "execution_count": 39,
   "outputs": [
    {
     "name": "stdout",
     "output_type": "stream",
     "text": [
      "[-0.07164697] [-0.07164697  0.00513329 -0.00036778]\n",
      "-5.524486914628383 [-4.07902043  6.0053435   2.08957807]\n",
      "[-5.52448691 27.05547078]\n",
      "27.05547077704543\n"
     ]
    }
   ],
   "source": [
    "poly_features_3 = PolynomialFeatures(degree=3, include_bias=False)\n",
    "X_poly = poly_features_3.fit_transform(X_train)\n",
    "print(X_train[0], X_poly[0])\n",
    "poly_3_reg = LinearRegression()\n",
    "poly_3_reg.fit(X_poly, y_train)\n",
    "print(poly_3_reg.intercept_, poly_3_reg.coef_)\n",
    "print(poly_3_reg.predict(poly_features_3.fit_transform([[0],[2]])))\n",
    "print(poly_3_reg.coef_[2] * 2**3 + poly_3_reg.coef_[1] * 2**2 + poly_3_reg.coef_[0] * 2 + poly_3_reg.intercept_)\n",
    "poly_3_reg_pred = poly_3_reg.predict(X_poly)"
   ],
   "metadata": {
    "collapsed": false,
    "pycharm": {
     "name": "#%%\n"
    }
   }
  },
  {
   "cell_type": "code",
   "execution_count": 40,
   "outputs": [
    {
     "name": "stdout",
     "output_type": "stream",
     "text": [
      "[-0.07164697] [-7.16469700e-02  5.13328831e-03 -3.67784553e-04  2.63506489e-05]\n",
      "-2.817327629779273 [-3.8437271   1.2822925   1.96367146  0.96733301]\n",
      "[-2.81732763 25.81108807]\n",
      "25.811088068771333\n"
     ]
    }
   ],
   "source": [
    "poly_features_4 = PolynomialFeatures(degree=4, include_bias=False)\n",
    "X_poly = poly_features_4.fit_transform(X_train)\n",
    "print(X_train[0], X_poly[0])\n",
    "poly_4_reg = LinearRegression()\n",
    "poly_4_reg.fit(X_poly, y_train)\n",
    "print(poly_4_reg.intercept_, poly_4_reg.coef_)\n",
    "print(poly_4_reg.predict(poly_features_4.fit_transform([[0],[2]])))\n",
    "print(poly_4_reg.coef_[3] * 2**4 + poly_4_reg.coef_[2] * 2**3 + poly_4_reg.coef_[1] * 2**2 + poly_4_reg.coef_[0] * 2 + poly_4_reg.intercept_)\n",
    "poly_4_reg_pred = poly_4_reg.predict(X_poly)"
   ],
   "metadata": {
    "collapsed": false,
    "pycharm": {
     "name": "#%%\n"
    }
   }
  },
  {
   "cell_type": "code",
   "execution_count": 41,
   "outputs": [
    {
     "name": "stdout",
     "output_type": "stream",
     "text": [
      "[-0.07164697] [-7.16469700e-02  5.13328831e-03 -3.67784553e-04  2.63506489e-05\n",
      " -1.88794415e-06]\n",
      "-2.8266210595076444 [-2.81421304  1.33612443  1.16279879  0.9503664   0.12329551]\n",
      "[-2.82662106 25.34315941]\n",
      "25.34315941367116\n"
     ]
    }
   ],
   "source": [
    "poly_features_5 = PolynomialFeatures(degree=5, include_bias=False)\n",
    "X_poly = poly_features_5.fit_transform(X_train)\n",
    "print(X_train[0], X_poly[0])\n",
    "poly_5_reg = LinearRegression()\n",
    "poly_5_reg.fit(X_poly, y_train)\n",
    "print(poly_5_reg.intercept_, poly_5_reg.coef_)\n",
    "print(poly_5_reg.predict(poly_features_5.fit_transform([[0],[2]])))\n",
    "print(poly_5_reg.coef_[4] *2**5 + poly_5_reg.coef_[3] * 2**4 + poly_5_reg.coef_[2] * 2**3 + poly_5_reg.coef_[1] * 2**2 + poly_5_reg.coef_[0] * 2 + poly_5_reg.intercept_)\n",
    "poly_5_reg_pred = poly_5_reg.predict(X_poly)"
   ],
   "metadata": {
    "collapsed": false,
    "pycharm": {
     "name": "#%%\n"
    }
   }
  },
  {
   "cell_type": "markdown",
   "source": [
    "# ***TEST SET***"
   ],
   "metadata": {
    "collapsed": false
   }
  },
  {
   "cell_type": "markdown",
   "source": [
    "***Linear Regression Test set***"
   ],
   "metadata": {
    "collapsed": false
   }
  },
  {
   "cell_type": "code",
   "execution_count": 42,
   "outputs": [
    {
     "name": "stdout",
     "output_type": "stream",
     "text": [
      "[9.89291016 4.50010372]\n"
     ]
    }
   ],
   "source": [
    "X_b = np.c_[np.ones(X_test.shape), X_test]\n",
    "theta_best = np.linalg.inv(X_b.T.dot(X_b)).dot(X_b.T).dot(y_test)\n",
    "print(theta_best)"
   ],
   "metadata": {
    "collapsed": false,
    "pycharm": {
     "name": "#%%\n"
    }
   }
  },
  {
   "cell_type": "code",
   "execution_count": 43,
   "outputs": [
    {
     "name": "stdout",
     "output_type": "stream",
     "text": [
      "[ 9.89291016 18.8931176 ]\n"
     ]
    }
   ],
   "source": [
    "X_new = np.array([[0], [2]])\n",
    "X_new_b = np.c_[np.ones((2, 1)), X_new]\n",
    "print(y_predict_ := X_new_b.dot(theta_best))"
   ],
   "metadata": {
    "collapsed": false,
    "pycharm": {
     "name": "#%%\n"
    }
   }
  },
  {
   "cell_type": "code",
   "execution_count": 44,
   "outputs": [
    {
     "name": "stdout",
     "output_type": "stream",
     "text": [
      "9.892910159759547 [4.50010372] \n",
      " [ 9.89291016 18.8931176 ]\n"
     ]
    }
   ],
   "source": [
    "lin_reg = LinearRegression()\n",
    "X_test = X_test.reshape(-1, 1)\n",
    "lin_reg.fit(X_test, y_test)\n",
    "lin_reg.fit(X_test, y_test)\n",
    "print(lin_reg.intercept_, lin_reg.coef_, \"\\n\", lin_reg.predict(X_new))\n",
    "lin_reg_pred_t = lin_reg.predict(X_test)"
   ],
   "metadata": {
    "collapsed": false,
    "pycharm": {
     "name": "#%%\n"
    }
   }
  },
  {
   "cell_type": "markdown",
   "source": [
    "***KNN Test set k=3***"
   ],
   "metadata": {
    "collapsed": false,
    "pycharm": {
     "name": "#%% md\n"
    }
   }
  },
  {
   "cell_type": "code",
   "source": [
    "knn_3_reg = sklearn.neighbors.KNeighborsRegressor(n_neighbors=3)\n",
    "knn_3_reg.fit(X_test.reshape(-1,1), y_test)\n",
    "print(knn_3_reg.predict(X_new))\n",
    "knn_3_reg_pred_t = knn_3_reg.predict(X_test)"
   ],
   "metadata": {
    "collapsed": false,
    "pycharm": {
     "name": "#%%\n"
    }
   },
   "execution_count": 45,
   "outputs": [
    {
     "name": "stdout",
     "output_type": "stream",
     "text": [
      "[-8.44458442 20.88104301]\n"
     ]
    }
   ]
  },
  {
   "cell_type": "markdown",
   "source": [
    "***k=5***"
   ],
   "metadata": {
    "collapsed": false,
    "pycharm": {
     "name": "#%% md\n"
    }
   }
  },
  {
   "cell_type": "code",
   "execution_count": 46,
   "outputs": [
    {
     "name": "stdout",
     "output_type": "stream",
     "text": [
      "[-4.377968   24.86353061]\n"
     ]
    }
   ],
   "source": [
    "knn_5_reg = sklearn.neighbors.KNeighborsRegressor(n_neighbors=5)\n",
    "knn_5_reg.fit(X_test.reshape(-1,1), y_test)\n",
    "print(knn_5_reg.predict(X_new))\n",
    "knn_5_reg_pred_t = knn_5_reg.predict(X_test)"
   ],
   "metadata": {
    "collapsed": false,
    "pycharm": {
     "name": "#%%\n"
    }
   }
  },
  {
   "cell_type": "markdown",
   "source": [
    "***Polynomial Regression Test set***"
   ],
   "metadata": {
    "collapsed": false
   }
  },
  {
   "cell_type": "code",
   "execution_count": 47,
   "outputs": [
    {
     "name": "stdout",
     "output_type": "stream",
     "text": [
      "[-2.18622518] [-2.18622518  4.77958053]\n",
      "-6.665367413338174 [3.76594834 6.18308372]\n",
      "[-6.66536741 25.59886415]\n",
      "25.598864148816524\n"
     ]
    }
   ],
   "source": [
    "from sklearn.preprocessing import PolynomialFeatures\n",
    "poly_features_2 = PolynomialFeatures(degree=2, include_bias=False)\n",
    "X_poly = poly_features_2.fit_transform(X_test.reshape(-1,1))\n",
    "print(X_test[0], X_poly[0])\n",
    "poly_2_reg = LinearRegression()\n",
    "poly_2_reg.fit(X_poly, y_test)\n",
    "print(poly_2_reg.intercept_, poly_2_reg.coef_)\n",
    "print(poly_2_reg.predict(poly_features_2.fit_transform([[0],[2]])))\n",
    "print(poly_2_reg.coef_[1] * 2**2 + poly_2_reg.coef_[0] * 2 + poly_2_reg.intercept_)\n",
    "poly_2_reg_pred_t = poly_2_reg.predict(X_poly)"
   ],
   "metadata": {
    "collapsed": false,
    "pycharm": {
     "name": "#%%\n"
    }
   }
  },
  {
   "cell_type": "code",
   "execution_count": 48,
   "outputs": [
    {
     "name": "stdout",
     "output_type": "stream",
     "text": [
      "[-2.18622518] [ -2.18622518   4.77958053 -10.4492393 ]\n",
      "-8.209987006748136 [-6.22449493  6.45523244  2.55662755]\n",
      "[-8.20998701 25.61497327]\n",
      "25.614973274919187\n"
     ]
    }
   ],
   "source": [
    "poly_features_3 = PolynomialFeatures(degree=3, include_bias=False)\n",
    "X_poly = poly_features_3.fit_transform(X_test.reshape(-1,1))\n",
    "print(X_test[0], X_poly[0])\n",
    "poly_3_reg = LinearRegression()\n",
    "poly_3_reg.fit(X_poly, y_test)\n",
    "print(poly_3_reg.intercept_, poly_3_reg.coef_)\n",
    "print(poly_3_reg.predict(poly_features_3.fit_transform([[0],[2]])))\n",
    "print(poly_3_reg.coef_[2] * 2**3 + poly_3_reg.coef_[1] * 2**2 + poly_3_reg.coef_[0] * 2 + poly_3_reg.intercept_)\n",
    "poly_3_reg_pred_t = poly_3_reg.predict(X_poly)"
   ],
   "metadata": {
    "collapsed": false,
    "pycharm": {
     "name": "#%%\n"
    }
   }
  },
  {
   "cell_type": "code",
   "execution_count": 49,
   "outputs": [
    {
     "name": "stdout",
     "output_type": "stream",
     "text": [
      "[[-2.18622518]] [ -2.18622518   4.77958053 -10.4492393   22.84439005]\n",
      "-3.066291119020658 [-5.84214221 -0.6672853   2.4509658   1.33874403]\n",
      "[-3.06629112 23.60791416]\n",
      "-17.419716731910707\n"
     ]
    }
   ],
   "source": [
    "poly_features = PolynomialFeatures(degree=4, include_bias = False)\n",
    "X_poly = poly_features.fit_transform(X_test.reshape(-1,1))\n",
    "print(X_test[0].reshape(-1, 1), X_poly[0])\n",
    "poly_4_reg = LinearRegression()\n",
    "poly_4_reg.fit(X_poly, y_test)\n",
    "print(poly_4_reg.intercept_, poly_4_reg.coef_)\n",
    "print(poly_4_reg.predict(poly_features.fit_transform([[0],[2]])))\n",
    "print(poly_4_reg.coef_[1] * 2**2 + poly_4_reg.coef_[0] * 2 + poly_4_reg.intercept_)\n",
    "poly_4_reg_pred_t = poly_4_reg.predict(X_poly)"
   ],
   "metadata": {
    "collapsed": false,
    "pycharm": {
     "name": "#%%\n"
    }
   }
  },
  {
   "cell_type": "code",
   "execution_count": 50,
   "outputs": [
    {
     "name": "stdout",
     "output_type": "stream",
     "text": [
      "[[-2.18622518]] [ -2.18622518   4.77958053 -10.4492393   22.84439005 -49.94298071]\n",
      "-4.137459064579179 [-13.46217314  -0.29180515   7.52665577   1.31107576  -0.72057509]\n",
      "[-4.13745906 25.90302933]\n",
      "-32.22902593900544\n"
     ]
    }
   ],
   "source": [
    "poly_features = PolynomialFeatures(degree=5, include_bias = False)\n",
    "X_poly = poly_features.fit_transform(X_test.reshape(-1,1))\n",
    "print(X_test[0].reshape(-1, 1), X_poly[0])\n",
    "poly_5_reg = LinearRegression()\n",
    "poly_5_reg.fit(X_poly, y_test)\n",
    "print(poly_5_reg.intercept_, poly_5_reg.coef_)\n",
    "print(poly_5_reg.predict(poly_features.fit_transform([[0],[2]])))\n",
    "print(poly_5_reg.coef_[1] * 2**2 + poly_5_reg.coef_[0] * 2 + poly_5_reg.intercept_)\n",
    "poly_5_reg_pred_t = poly_5_reg.predict(X_poly)"
   ],
   "metadata": {
    "collapsed": false,
    "pycharm": {
     "name": "#%%\n"
    }
   }
  },
  {
   "cell_type": "markdown",
   "source": [
    "***DATA FRAME***"
   ],
   "metadata": {
    "collapsed": false
   }
  },
  {
   "cell_type": "code",
   "execution_count": 51,
   "outputs": [],
   "source": [
    "from sklearn.metrics import mean_squared_error\n",
    "mse = {'lin_reg':[mean_squared_error(y_train, lin_reg_pred), mean_squared_error(y_test, lin_reg_pred_t)],\n",
    "       'knn_3_reg':[mean_squared_error(y_train, knn_3_reg_pred), mean_squared_error(y_test, knn_3_reg_pred_t)],\n",
    "       'knn_5_reg':[mean_squared_error(y_train, knn_5_reg_pred), mean_squared_error(y_test, knn_5_reg_pred_t)],\n",
    "       'poly_2_reg':[mean_squared_error(y_train, poly_2_reg_pred), mean_squared_error(y_test, poly_2_reg_pred_t)],\n",
    "       'poly_3_reg':[mean_squared_error(y_train, poly_3_reg_pred), mean_squared_error(y_test, poly_3_reg_pred_t)],\n",
    "       'poly_4_reg':[mean_squared_error(y_train, poly_4_reg_pred), mean_squared_error(y_test, poly_4_reg_pred_t)],\n",
    "       'poly_5_reg':[mean_squared_error(y_train, poly_5_reg_pred), mean_squared_error(y_test, poly_5_reg_pred_t)]}\n",
    "\n",
    "mse = pd.DataFrame.from_dict(mse, orient = 'index', columns = ['train_mse', 'test_mse'])"
   ],
   "metadata": {
    "collapsed": false,
    "pycharm": {
     "name": "#%%\n"
    }
   }
  },
  {
   "cell_type": "code",
   "execution_count": 52,
   "outputs": [
    {
     "data": {
      "text/plain": "             train_mse    test_mse\nlin_reg     203.456213  244.710642\nknn_3_reg    48.411522   60.735204\nknn_5_reg    55.691151   65.997923\npoly_2_reg   91.119910  121.558274\npoly_3_reg   72.731978   92.229922\npoly_4_reg   66.371869   78.443355\npoly_5_reg   66.213384   73.806559",
      "text/html": "<div>\n<style scoped>\n    .dataframe tbody tr th:only-of-type {\n        vertical-align: middle;\n    }\n\n    .dataframe tbody tr th {\n        vertical-align: top;\n    }\n\n    .dataframe thead th {\n        text-align: right;\n    }\n</style>\n<table border=\"1\" class=\"dataframe\">\n  <thead>\n    <tr style=\"text-align: right;\">\n      <th></th>\n      <th>train_mse</th>\n      <th>test_mse</th>\n    </tr>\n  </thead>\n  <tbody>\n    <tr>\n      <th>lin_reg</th>\n      <td>203.456213</td>\n      <td>244.710642</td>\n    </tr>\n    <tr>\n      <th>knn_3_reg</th>\n      <td>48.411522</td>\n      <td>60.735204</td>\n    </tr>\n    <tr>\n      <th>knn_5_reg</th>\n      <td>55.691151</td>\n      <td>65.997923</td>\n    </tr>\n    <tr>\n      <th>poly_2_reg</th>\n      <td>91.119910</td>\n      <td>121.558274</td>\n    </tr>\n    <tr>\n      <th>poly_3_reg</th>\n      <td>72.731978</td>\n      <td>92.229922</td>\n    </tr>\n    <tr>\n      <th>poly_4_reg</th>\n      <td>66.371869</td>\n      <td>78.443355</td>\n    </tr>\n    <tr>\n      <th>poly_5_reg</th>\n      <td>66.213384</td>\n      <td>73.806559</td>\n    </tr>\n  </tbody>\n</table>\n</div>"
     },
     "execution_count": 52,
     "metadata": {},
     "output_type": "execute_result"
    }
   ],
   "source": [
    "mse"
   ],
   "metadata": {
    "collapsed": false,
    "pycharm": {
     "name": "#%%\n"
    }
   }
  },
  {
   "cell_type": "code",
   "execution_count": 53,
   "outputs": [],
   "source": [
    "import pickle"
   ],
   "metadata": {
    "collapsed": false,
    "pycharm": {
     "name": "#%%\n"
    }
   }
  },
  {
   "cell_type": "code",
   "execution_count": 54,
   "outputs": [],
   "source": [
    "with open('mse.pkl', 'wb') as f:\n",
    "    pickle.dump(mse, f)"
   ],
   "metadata": {
    "collapsed": false,
    "pycharm": {
     "name": "#%%\n"
    }
   }
  },
  {
   "cell_type": "code",
   "execution_count": 55,
   "outputs": [],
   "source": [
    "reg = [(lin_reg, None), (knn_3_reg, None), (knn_5_reg, None), (poly_2_reg, poly_features_2 ), (poly_3_reg, poly_features_3), (poly_4_reg, poly_features_4), (poly_5_reg, poly_features_5)]\n",
    "with open('reg.pkl', 'wb') as f:\n",
    "    pickle.dump(reg, f)"
   ],
   "metadata": {
    "collapsed": false,
    "pycharm": {
     "name": "#%%\n"
    }
   }
  },
  {
   "cell_type": "code",
   "execution_count": 56,
   "outputs": [
    {
     "data": {
      "text/plain": "[(LinearRegression(), None),\n (KNeighborsRegressor(n_neighbors=3), None),\n (KNeighborsRegressor(), None),\n (LinearRegression(), PolynomialFeatures(include_bias=False)),\n (LinearRegression(), PolynomialFeatures(degree=3, include_bias=False)),\n (LinearRegression(), PolynomialFeatures(degree=4, include_bias=False)),\n (LinearRegression(), PolynomialFeatures(degree=5, include_bias=False))]"
     },
     "execution_count": 56,
     "metadata": {},
     "output_type": "execute_result"
    }
   ],
   "source": [
    "reg"
   ],
   "metadata": {
    "collapsed": false,
    "pycharm": {
     "name": "#%%\n"
    }
   }
  }
 ],
 "metadata": {
  "kernelspec": {
   "display_name": "Python 3 (ipykernel)",
   "language": "python",
   "name": "python3"
  },
  "language_info": {
   "codemirror_mode": {
    "name": "ipython",
    "version": 3
   },
   "file_extension": ".py",
   "mimetype": "text/x-python",
   "name": "python",
   "nbconvert_exporter": "python",
   "pygments_lexer": "ipython3",
   "version": "3.9.10"
  }
 },
 "nbformat": 4,
 "nbformat_minor": 5
}